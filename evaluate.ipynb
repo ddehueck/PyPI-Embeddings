{
 "cells": [
  {
   "cell_type": "code",
   "execution_count": 4,
   "metadata": {},
   "outputs": [],
   "source": [
    "%matplotlib widget "
   ]
  },
  {
   "cell_type": "markdown",
   "metadata": {},
   "source": [
    "# Evaluate Vectors via Logistic Regression"
   ]
  },
  {
   "cell_type": "code",
   "execution_count": 5,
   "metadata": {},
   "outputs": [],
   "source": [
    "eval_topics_path = 'data_preprocess/data/eval_topics.csv'\n",
    "node_topics_path = 'data_preprocess/data/node_topics.csv'\n",
    "nodes_path = 'data_preprocess/data/pypi_nodes.csv'"
   ]
  },
  {
   "cell_type": "code",
   "execution_count": 26,
   "metadata": {},
   "outputs": [],
   "source": [
    "from evaluate.lr import LREvaluation\n",
    "import pandas as pd\n",
    "import evaluate.utils as utils\n",
    "import numpy as np"
   ]
  },
  {
   "cell_type": "code",
   "execution_count": 9,
   "metadata": {},
   "outputs": [],
   "source": [
    "LR = LREvaluation(node_topics_path, eval_topics_path)\n",
    "node_names = list(pd.read_csv(nodes_path, na_filter=False)[\"nodes\"])"
   ]
  },
  {
   "cell_type": "markdown",
   "metadata": {},
   "source": [
    "## Evaluate TF-IDF Vectors"
   ]
  },
  {
   "cell_type": "code",
   "execution_count": null,
   "metadata": {},
   "outputs": [],
   "source": [
    "# Get a name vector dict\n",
    "tfidf_path = 'vector_generation/data/tfidf/00000/TFIDF'\n",
    "tfidf_name_vec_dict = utils.get_tsv_dict(f'{tfidf_path}/metadata.tsv', f'{tfidf_path}/tensors.tsv')"
   ]
  },
  {
   "cell_type": "code",
   "execution_count": null,
   "metadata": {},
   "outputs": [],
   "source": [
    "# Get features matrix\n",
    "tfidf_features_matrix = utils.build_features_matrix(\n",
    "    LR.labeled_node_ids,\n",
    "    node_names,\n",
    "    tfidf_name_vec_dict\n",
    ")\n",
    "\n",
    "print(tfidf_features_matrix)"
   ]
  },
  {
   "cell_type": "code",
   "execution_count": null,
   "metadata": {},
   "outputs": [],
   "source": [
    "# Evaluate!\n",
    "LR.evaluate(tfidf_features_matrix, num_shuffles=10, training_percents=[0.1, 0.5, 0.9])"
   ]
  },
  {
   "cell_type": "markdown",
   "metadata": {},
   "source": [
    "## Evaluate Doc2Vec Vectors"
   ]
  },
  {
   "cell_type": "code",
   "execution_count": 22,
   "metadata": {},
   "outputs": [],
   "source": [
    "# Get a name vector dict\n",
    "d2v_path = 'vector_generation/data/doc2vec/00000/Doc2Vec_dim_128_epoch_50'\n",
    "d2v_name_vec_dict = utils.get_tsv_dict(f'{d2v_path}/metadata.tsv', f'{d2v_path}/tensors.tsv')"
   ]
  },
  {
   "cell_type": "code",
   "execution_count": 23,
   "metadata": {},
   "outputs": [
    {
     "name": "stdout",
     "output_type": "stream",
     "text": [
      "[[-0.04313257 -0.10160448 -0.01422191 ... -0.06657086  0.01095787\n",
      "  -0.15670778]\n",
      " [-0.1421297   0.24015905 -0.755831   ...  0.21273902  0.08050007\n",
      "  -0.04276856]\n",
      " [ 0.24452315 -0.13549297 -0.06890897 ...  0.32536998 -0.03322582\n",
      "  -0.17995596]\n",
      " ...\n",
      " [-0.17609794  0.0298483   0.04648566 ...  0.27582824 -0.16254099\n",
      "  -0.03240073]\n",
      " [ 0.00125125 -0.01431077  0.00368682 ...  0.01446857  0.01123924\n",
      "  -0.00331963]\n",
      " [ 0.42319652 -0.51151925 -0.65454113 ... -0.5228802   0.71550357\n",
      "  -0.1144278 ]]\n"
     ]
    }
   ],
   "source": [
    "# Get features matrix\n",
    "d2v_features_matrix = utils.build_features_matrix(\n",
    "    LR.labeled_node_ids,\n",
    "    node_names,\n",
    "    d2v_name_vec_dict\n",
    ")\n",
    "\n",
    "print(d2v_features_matrix)"
   ]
  },
  {
   "cell_type": "code",
   "execution_count": 24,
   "metadata": {},
   "outputs": [
    {
     "name": "stderr",
     "output_type": "stream",
     "text": [
      "  0%|          | 0/3 [00:00<?, ?it/s]/opt/anaconda3/envs/ml/lib/python3.6/site-packages/sklearn/metrics/classification.py:1437: UndefinedMetricWarning: F-score is ill-defined and being set to 0.0 in labels with no predicted samples.\n",
      "  'precision', 'predicted', average, warn_for)\n",
      "/opt/anaconda3/envs/ml/lib/python3.6/site-packages/sklearn/metrics/classification.py:1437: UndefinedMetricWarning: F-score is ill-defined and being set to 0.0 in labels with no predicted samples.\n",
      "  'precision', 'predicted', average, warn_for)\n",
      " 67%|██████▋   | 2/3 [00:19<00:08,  8.20s/it]/opt/anaconda3/envs/ml/lib/python3.6/site-packages/sklearn/metrics/classification.py:1437: UndefinedMetricWarning: F-score is ill-defined and being set to 0.0 in labels with no predicted samples.\n",
      "  'precision', 'predicted', average, warn_for)\n",
      "100%|██████████| 3/3 [00:43<00:00, 14.60s/it]"
     ]
    },
    {
     "name": "stdout",
     "output_type": "stream",
     "text": [
      "Results, using embeddings of dimensionality 128\n",
      "-------------------\n",
      "Train percent: 0.1\n",
      "-------------------\n",
      "Shuffle #1:    {'micro': 0.31768602072129554, 'macro': 0.19610663075459114}\n",
      "Shuffle #2:    {'micro': 0.31870472944184064, 'macro': 0.196687193716647}\n",
      "Average score: {'micro': 0.3181953750815681, 'macro': 0.19639691223561906}\n",
      "-------------------\n",
      "Train percent: 0.5\n",
      "-------------------\n",
      "Shuffle #1:    {'micro': 0.4113560527323451, 'macro': 0.3175343453394098}\n",
      "Shuffle #2:    {'micro': 0.40927716767742994, 'macro': 0.3174465624125932}\n",
      "Average score: {'micro': 0.4103166102048875, 'macro': 0.3174904538760015}\n",
      "-------------------\n",
      "Train percent: 0.9\n",
      "-------------------\n",
      "Shuffle #1:    {'micro': 0.4307353346185624, 'macro': 0.33653030201509326}\n",
      "Shuffle #2:    {'micro': 0.4358407079646018, 'macro': 0.3456678024454734}\n",
      "Average score: {'micro': 0.43328802129158206, 'macro': 0.34109905223028336}\n",
      "-------------------\n"
     ]
    },
    {
     "name": "stderr",
     "output_type": "stream",
     "text": [
      "\n"
     ]
    }
   ],
   "source": [
    "# Evaluate!\n",
    "LR.evaluate(d2v_features_matrix, num_shuffles=2, training_percents=[0.1, 0.5, 0.9])"
   ]
  },
  {
   "cell_type": "markdown",
   "metadata": {},
   "source": [
    "## Evaluate DeepWalk Vectors"
   ]
  },
  {
   "cell_type": "code",
   "execution_count": 28,
   "metadata": {},
   "outputs": [],
   "source": [
    "# Get a name vector dict\n",
    "dwlk_path = 'vector_generation/data/deepwalk/00000/deepwalk'\n",
    "dwlk_name_vec_dict = utils.get_tsv_dict(f'{dwlk_path}/metadata.tsv', f'{dwlk_path}/tensors.tsv')"
   ]
  },
  {
   "cell_type": "code",
   "execution_count": 29,
   "metadata": {},
   "outputs": [
    {
     "name": "stdout",
     "output_type": "stream",
     "text": [
      "Couldn't find 2576/95951 vectors in the name_vec_dict provided\n",
      "Using random vectors in their place\n",
      "[[ 0.32372928 -0.06645171 -0.04385794 ...  0.10878182  0.09313563\n",
      "  -0.08789907]\n",
      " [ 0.77795282  0.28577447  0.87167607 ...  0.52843138  0.77998984\n",
      "   0.46045369]\n",
      " [ 0.41704962  0.34277883 -0.02421124 ...  0.41972488  0.4007639\n",
      "  -0.11719696]\n",
      " ...\n",
      " [ 0.02805469  0.11568511 -0.18876307 ...  0.30574223 -0.06950674\n",
      "   0.0996941 ]\n",
      " [ 0.82481375  0.37239489  0.16097685 ...  0.31024376  0.64665829\n",
      "   0.36488998]\n",
      " [-0.21692657  0.5262821   0.24374469 ... -0.1533963   0.10880067\n",
      "  -0.19714065]]\n"
     ]
    }
   ],
   "source": [
    "# Get features matrix\n",
    "dwlk_features_matrix = utils.build_features_matrix(\n",
    "    LR.labeled_node_ids,\n",
    "    node_names,\n",
    "    dwlk_name_vec_dict\n",
    ")\n",
    "\n",
    "print(dwlk_features_matrix)"
   ]
  },
  {
   "cell_type": "code",
   "execution_count": 37,
   "metadata": {},
   "outputs": [
    {
     "name": "stderr",
     "output_type": "stream",
     "text": [
      "\n",
      "  0%|          | 0/3 [00:00<?, ?it/s]\u001b[A/opt/anaconda3/envs/ml/lib/python3.6/site-packages/sklearn/metrics/classification.py:1437: UndefinedMetricWarning: F-score is ill-defined and being set to 0.0 in labels with no predicted samples.\n",
      "  'precision', 'predicted', average, warn_for)\n",
      "/opt/anaconda3/envs/ml/lib/python3.6/site-packages/sklearn/metrics/classification.py:1437: UndefinedMetricWarning: F-score is ill-defined and being set to 0.0 in labels with no predicted samples.\n",
      "  'precision', 'predicted', average, warn_for)\n",
      "\n",
      " 33%|███▎      | 1/3 [00:09<00:19,  9.79s/it]\u001b[A\n",
      " 67%|██████▋   | 2/3 [00:54<00:20, 20.22s/it]\u001b[A/opt/anaconda3/envs/ml/lib/python3.6/site-packages/sklearn/metrics/classification.py:1437: UndefinedMetricWarning: F-score is ill-defined and being set to 0.0 in labels with no predicted samples.\n",
      "  'precision', 'predicted', average, warn_for)\n",
      "/opt/anaconda3/envs/ml/lib/python3.6/site-packages/sklearn/metrics/classification.py:1437: UndefinedMetricWarning: F-score is ill-defined and being set to 0.0 in labels with no predicted samples.\n",
      "  'precision', 'predicted', average, warn_for)\n",
      "\n",
      "100%|██████████| 3/3 [02:21<00:00, 47.03s/it]\u001b[A"
     ]
    },
    {
     "name": "stdout",
     "output_type": "stream",
     "text": [
      "Results, using embeddings of dimensionality 256\n",
      "-------------------\n",
      "Train percent: 0.1\n",
      "-------------------\n",
      "Shuffle #1:    {'micro': 0.34386061271817403, 'macro': 0.2369503595228126}\n",
      "Shuffle #2:    {'micro': 0.3448915655321349, 'macro': 0.24047015464522112}\n",
      "Average score: {'micro': 0.3443760891251545, 'macro': 0.23871025708401686}\n",
      "-------------------\n",
      "Train percent: 0.5\n",
      "-------------------\n",
      "Shuffle #1:    {'micro': 0.3914783943847335, 'macro': 0.29529402476121575}\n",
      "Shuffle #2:    {'micro': 0.3883637548891786, 'macro': 0.29311641085547585}\n",
      "Average score: {'micro': 0.389921074636956, 'macro': 0.2942052178083458}\n",
      "-------------------\n",
      "Train percent: 0.9\n",
      "-------------------\n",
      "Shuffle #1:    {'micro': 0.40558292282430214, 'macro': 0.30019201950153507}\n",
      "Shuffle #2:    {'micro': 0.4211233539371137, 'macro': 0.3097594888073434}\n",
      "Average score: {'micro': 0.4133531383807079, 'macro': 0.3049757541544392}\n",
      "-------------------\n"
     ]
    },
    {
     "name": "stderr",
     "output_type": "stream",
     "text": [
      "\n"
     ]
    }
   ],
   "source": [
    "# Evaluate!\n",
    "LR.evaluate(dwlk_features_matrix, num_shuffles=2, training_percents=[0.1, 0.5, 0.9])"
   ]
  },
  {
   "cell_type": "markdown",
   "metadata": {},
   "source": [
    "## Evaluate MultiGraph Vectors\n",
    "\n",
    "Combines dependency graph and language data"
   ]
  },
  {
   "cell_type": "code",
   "execution_count": 32,
   "metadata": {},
   "outputs": [],
   "source": [
    "# Get a name vector dict\n",
    "multigraph_path = 'vector_generation/data/multigraph/00000/DeepWalkd2v'\n",
    "multigraph_name_vec_dict = utils.get_tsv_dict(f'{multigraph_path}/metadata.tsv', f'{multigraph_path}/tensors.tsv')"
   ]
  },
  {
   "cell_type": "code",
   "execution_count": 33,
   "metadata": {},
   "outputs": [
    {
     "name": "stdout",
     "output_type": "stream",
     "text": [
      "[[ 0.03707959 -0.02591027 -0.0831027  ...  0.01027415 -0.01948853\n",
      "  -0.04744922]\n",
      " [-0.00341722 -0.00381578  0.00172656 ... -0.00309118  0.00040134\n",
      "  -0.00212493]\n",
      " [ 0.0034879  -0.00499655  0.00109166 ... -0.00500495  0.00429559\n",
      "  -0.00250053]\n",
      " ...\n",
      " [-0.05822385  0.00819831  0.04709605 ... -0.03797765 -0.09110721\n",
      "   0.02847548]\n",
      " [ 0.00300985 -0.00302985 -0.00024235 ...  0.00252268 -0.0025351\n",
      "   0.00141764]\n",
      " [ 0.04166736 -0.00035233  0.0085204  ...  0.0206775   0.00536029\n",
      "   0.02211291]]\n"
     ]
    }
   ],
   "source": [
    "# Get features matrix\n",
    "multigraph_features_matrix = utils.build_features_matrix(\n",
    "    LR.labeled_node_ids,\n",
    "    node_names,\n",
    "    multigraph_name_vec_dict\n",
    ")\n",
    "\n",
    "print(multigraph_features_matrix)"
   ]
  },
  {
   "cell_type": "code",
   "execution_count": 34,
   "metadata": {},
   "outputs": [
    {
     "name": "stderr",
     "output_type": "stream",
     "text": [
      "  0%|          | 0/3 [00:00<?, ?it/s]/opt/anaconda3/envs/ml/lib/python3.6/site-packages/sklearn/metrics/classification.py:1437: UndefinedMetricWarning: F-score is ill-defined and being set to 0.0 in labels with no predicted samples.\n",
      "  'precision', 'predicted', average, warn_for)\n",
      "/opt/anaconda3/envs/ml/lib/python3.6/site-packages/sklearn/metrics/classification.py:1437: UndefinedMetricWarning: F-score is ill-defined and being set to 0.0 in labels with no predicted samples.\n",
      "  'precision', 'predicted', average, warn_for)\n",
      " 33%|███▎      | 1/3 [00:05<00:11,  5.52s/it]/opt/anaconda3/envs/ml/lib/python3.6/site-packages/sklearn/metrics/classification.py:1437: UndefinedMetricWarning: F-score is ill-defined and being set to 0.0 in labels with no predicted samples.\n",
      "  'precision', 'predicted', average, warn_for)\n",
      "/opt/anaconda3/envs/ml/lib/python3.6/site-packages/sklearn/metrics/classification.py:1437: UndefinedMetricWarning: F-score is ill-defined and being set to 0.0 in labels with no predicted samples.\n",
      "  'precision', 'predicted', average, warn_for)\n",
      " 67%|██████▋   | 2/3 [00:20<00:08,  8.38s/it]/opt/anaconda3/envs/ml/lib/python3.6/site-packages/sklearn/metrics/classification.py:1437: UndefinedMetricWarning: F-score is ill-defined and being set to 0.0 in labels with no predicted samples.\n",
      "  'precision', 'predicted', average, warn_for)\n",
      "/opt/anaconda3/envs/ml/lib/python3.6/site-packages/sklearn/metrics/classification.py:1437: UndefinedMetricWarning: F-score is ill-defined and being set to 0.0 in labels with no predicted samples.\n",
      "  'precision', 'predicted', average, warn_for)\n",
      "100%|██████████| 3/3 [00:49<00:00, 16.45s/it]"
     ]
    },
    {
     "name": "stdout",
     "output_type": "stream",
     "text": [
      "Results, using embeddings of dimensionality 128\n",
      "-------------------\n",
      "Train percent: 0.1\n",
      "-------------------\n",
      "Shuffle #1:    {'micro': 0.09206242964495422, 'macro': 0.004428734530203636}\n",
      "Shuffle #2:    {'micro': 0.09169497694734287, 'macro': 0.0045058632394111885}\n",
      "Average score: {'micro': 0.09187870329614854, 'macro': 0.004467298884807413}\n",
      "-------------------\n",
      "Train percent: 0.5\n",
      "-------------------\n",
      "Shuffle #1:    {'micro': 0.09075961854653075, 'macro': 0.0045681329486234115}\n",
      "Shuffle #2:    {'micro': 0.09045280960174579, 'macro': 0.004782274253442248}\n",
      "Average score: {'micro': 0.09060621407413827, 'macro': 0.00467520360103283}\n",
      "-------------------\n",
      "Train percent: 0.9\n",
      "-------------------\n",
      "Shuffle #1:    {'micro': 0.09254218835057158, 'macro': 0.0046973546434318945}\n",
      "Shuffle #2:    {'micro': 0.09357045143638851, 'macro': 0.004633679979454821}\n",
      "Average score: {'micro': 0.09305631989348004, 'macro': 0.004665517311443358}\n",
      "-------------------\n"
     ]
    },
    {
     "name": "stderr",
     "output_type": "stream",
     "text": [
      "\n"
     ]
    }
   ],
   "source": [
    "# Evaluate!\n",
    "LR.evaluate(multigraph_features_matrix, num_shuffles=2, training_percents=[0.1, 0.5, 0.9])"
   ]
  },
  {
   "cell_type": "markdown",
   "metadata": {},
   "source": [
    "## Evaluate on Random Vectors"
   ]
  },
  {
   "cell_type": "code",
   "execution_count": 36,
   "metadata": {},
   "outputs": [
    {
     "name": "stderr",
     "output_type": "stream",
     "text": [
      "\n",
      "  0%|          | 0/3 [00:00<?, ?it/s]\u001b[A/opt/anaconda3/envs/ml/lib/python3.6/site-packages/sklearn/metrics/classification.py:1437: UndefinedMetricWarning: F-score is ill-defined and being set to 0.0 in labels with no predicted samples.\n",
      "  'precision', 'predicted', average, warn_for)\n",
      "/opt/anaconda3/envs/ml/lib/python3.6/site-packages/sklearn/metrics/classification.py:1437: UndefinedMetricWarning: F-score is ill-defined and being set to 0.0 in labels with no predicted samples.\n",
      "  'precision', 'predicted', average, warn_for)\n",
      "\n",
      " 33%|███▎      | 1/3 [00:09<00:19,  9.93s/it]\u001b[A\n",
      " 67%|██████▋   | 2/3 [00:31<00:13, 13.47s/it]\u001b[A\n",
      "100%|██████████| 3/3 [00:53<00:00, 17.76s/it]\u001b[A"
     ]
    },
    {
     "name": "stdout",
     "output_type": "stream",
     "text": [
      "Results, using embeddings of dimensionality 256\n",
      "-------------------\n",
      "Train percent: 0.1\n",
      "-------------------\n",
      "Shuffle #1:    {'micro': 0.03971898664882455, 'macro': 0.011291785288605298}\n",
      "Shuffle #2:    {'micro': 0.04139585737714876, 'macro': 0.011751829530631643}\n",
      "Average score: {'micro': 0.04055742201298665, 'macro': 0.01152180740961847}\n",
      "-------------------\n",
      "Train percent: 0.5\n",
      "-------------------\n",
      "Shuffle #1:    {'micro': 0.0235038084874864, 'macro': 0.01369551040881235}\n",
      "Shuffle #2:    {'micro': 0.024331301147910146, 'macro': 0.01312093035236237}\n",
      "Average score: {'micro': 0.02391755481769827, 'macro': 0.013408220380587359}\n",
      "-------------------\n",
      "Train percent: 0.9\n",
      "-------------------\n",
      "Shuffle #1:    {'micro': 0.045530260966129936, 'macro': 0.012903601723521736}\n",
      "Shuffle #2:    {'micro': 0.045682451253481894, 'macro': 0.013404567940194557}\n",
      "Average score: {'micro': 0.045606356109805915, 'macro': 0.013154084831858147}\n",
      "-------------------\n"
     ]
    },
    {
     "name": "stderr",
     "output_type": "stream",
     "text": [
      "\n"
     ]
    }
   ],
   "source": [
    "LR.evaluate(\n",
    "    np.random.randn(len(LR.labeled_node_ids), 256),\n",
    "    num_shuffles=2,\n",
    "    training_percents=[0.1, 0.5, 0.9]\n",
    ")"
   ]
  },
  {
   "cell_type": "markdown",
   "metadata": {},
   "source": [
    "## Evaluate on Concatenated Vectors\n",
    "\n",
    "We're using different data sources - why not combine them?"
   ]
  },
  {
   "cell_type": "markdown",
   "metadata": {},
   "source": [
    "### Deepwalk and TF-IDF"
   ]
  },
  {
   "cell_type": "code",
   "execution_count": null,
   "metadata": {},
   "outputs": [],
   "source": [
    "import numpy as np\n",
    "\n",
    "dwlk_tfidf_features = np.concatenate((dwlk_features_matrix, tfidf_features_matrix), axis=1)\n",
    "\n",
    "print(dwlk_features_matrix.shape)\n",
    "print(tfidf_features_matrix.shape)\n",
    "print(dwlk_tfidf_features.shape)"
   ]
  },
  {
   "cell_type": "code",
   "execution_count": null,
   "metadata": {},
   "outputs": [],
   "source": [
    "# Evaluate!\n",
    "LR.evaluate(dwlk_tfidf_features, num_shuffles=3, training_percents=[0.1, 0.5, 0.9])"
   ]
  },
  {
   "cell_type": "markdown",
   "metadata": {},
   "source": [
    "### Deepwalk and Doc2Vec"
   ]
  },
  {
   "cell_type": "code",
   "execution_count": 30,
   "metadata": {},
   "outputs": [
    {
     "name": "stdout",
     "output_type": "stream",
     "text": [
      "(19482, 256)\n",
      "(19482, 128)\n",
      "(19482, 384)\n"
     ]
    }
   ],
   "source": [
    "dwlk_d2v_features = np.concatenate((dwlk_features_matrix, d2v_features_matrix), axis=1)\n",
    "\n",
    "print(dwlk_features_matrix.shape)\n",
    "print(d2v_features_matrix.shape)\n",
    "print(dwlk_d2v_features.shape)"
   ]
  },
  {
   "cell_type": "code",
   "execution_count": 31,
   "metadata": {},
   "outputs": [
    {
     "name": "stderr",
     "output_type": "stream",
     "text": [
      "  0%|          | 0/3 [00:00<?, ?it/s]/opt/anaconda3/envs/ml/lib/python3.6/site-packages/sklearn/metrics/classification.py:1437: UndefinedMetricWarning: F-score is ill-defined and being set to 0.0 in labels with no predicted samples.\n",
      "  'precision', 'predicted', average, warn_for)\n",
      "/opt/anaconda3/envs/ml/lib/python3.6/site-packages/sklearn/metrics/classification.py:1437: UndefinedMetricWarning: F-score is ill-defined and being set to 0.0 in labels with no predicted samples.\n",
      "  'precision', 'predicted', average, warn_for)\n",
      "100%|██████████| 3/3 [03:00<00:00, 60.23s/it]"
     ]
    },
    {
     "name": "stdout",
     "output_type": "stream",
     "text": [
      "Results, using embeddings of dimensionality 384\n",
      "-------------------\n",
      "Train percent: 0.1\n",
      "-------------------\n",
      "Shuffle #1:    {'micro': 0.38645249280193966, 'macro': 0.27893530968582797}\n",
      "Shuffle #2:    {'micro': 0.3832125677403641, 'macro': 0.2658285507904139}\n",
      "Average score: {'micro': 0.3848325302711519, 'macro': 0.27238193023812096}\n",
      "-------------------\n",
      "Train percent: 0.5\n",
      "-------------------\n",
      "Shuffle #1:    {'micro': 0.46195652173913043, 'macro': 0.38018466638963944}\n",
      "Shuffle #2:    {'micro': 0.45665245435661966, 'macro': 0.37943457233164596}\n",
      "Average score: {'micro': 0.45930448804787505, 'macro': 0.3798096193606427}\n",
      "-------------------\n",
      "Train percent: 0.9\n",
      "-------------------\n",
      "Shuffle #1:    {'micro': 0.49018003273322425, 'macro': 0.41006610412142275}\n",
      "Shuffle #2:    {'micro': 0.478587319243604, 'macro': 0.3951758811509753}\n",
      "Average score: {'micro': 0.48438367598841414, 'macro': 0.402620992636199}\n",
      "-------------------\n"
     ]
    },
    {
     "name": "stderr",
     "output_type": "stream",
     "text": [
      "\n"
     ]
    }
   ],
   "source": [
    "# Evaluate!\n",
    "LR.evaluate(dwlk_d2v_features, num_shuffles=2, training_percents=[0.1, 0.5, 0.9])"
   ]
  },
  {
   "cell_type": "markdown",
   "metadata": {},
   "source": [
    "## Evaluate on Added Vectors\n",
    "\n",
    "We're using different data sources - why not combine them?"
   ]
  },
  {
   "cell_type": "markdown",
   "metadata": {},
   "source": [
    "### Deepwalk and TF-IDF Add"
   ]
  },
  {
   "cell_type": "code",
   "execution_count": null,
   "metadata": {},
   "outputs": [],
   "source": [
    "dwlk_tfidf_features_add = dwlk_features_matrix + tfidf_features_matrix\n",
    "\n",
    "print(dwlk_features_matrix.shape)\n",
    "print(tfidf_features_matrix.shape)\n",
    "print(dwlk_tfidf_features_add.shape)"
   ]
  },
  {
   "cell_type": "code",
   "execution_count": null,
   "metadata": {},
   "outputs": [],
   "source": [
    "# Evaluate!\n",
    "LR.evaluate(dwlk_tfidf_features_add, num_shuffles=3, training_percents=[0.1, 0.5, 0.9])"
   ]
  },
  {
   "cell_type": "markdown",
   "metadata": {},
   "source": [
    "### Deepwalk and Doc2Vec Add"
   ]
  },
  {
   "cell_type": "code",
   "execution_count": null,
   "metadata": {},
   "outputs": [],
   "source": [
    "dwlk_d2v_features_add = dwlk_features_matrix + d2v_features_matrix\n",
    "\n",
    "print(dwlk_features_matrix.shape)\n",
    "print(d2v_features_matrix.shape)\n",
    "print(dwlk_d2v_features_add.shape)"
   ]
  },
  {
   "cell_type": "code",
   "execution_count": null,
   "metadata": {},
   "outputs": [],
   "source": [
    "# Evaluate!\n",
    "LR.evaluate(dwlk_d2v_features_add, num_shuffles=1, training_percents=[0.1])#, 0.5, 0.9])"
   ]
  },
  {
   "cell_type": "code",
   "execution_count": 11,
   "metadata": {},
   "outputs": [
    {
     "ename": "AttributeError",
     "evalue": "module 'seaborn' has no attribute 'plt'",
     "output_type": "error",
     "traceback": [
      "\u001b[0;31m---------------------------------------------------------------------------\u001b[0m",
      "\u001b[0;31mAttributeError\u001b[0m                            Traceback (most recent call last)",
      "\u001b[0;32m<ipython-input-11-0669063d0b32>\u001b[0m in \u001b[0;36m<module>\u001b[0;34m\u001b[0m\n\u001b[1;32m     14\u001b[0m \u001b[0msn\u001b[0m\u001b[0;34m.\u001b[0m\u001b[0mset\u001b[0m\u001b[0;34m(\u001b[0m\u001b[0mfont_scale\u001b[0m\u001b[0;34m=\u001b[0m\u001b[0;36m1.4\u001b[0m\u001b[0;34m)\u001b[0m\u001b[0;31m#for label size\u001b[0m\u001b[0;34m\u001b[0m\u001b[0;34m\u001b[0m\u001b[0m\n\u001b[1;32m     15\u001b[0m \u001b[0msn\u001b[0m\u001b[0;34m.\u001b[0m\u001b[0mheatmap\u001b[0m\u001b[0;34m(\u001b[0m\u001b[0mdf_cm\u001b[0m\u001b[0;34m,\u001b[0m \u001b[0mannot\u001b[0m\u001b[0;34m=\u001b[0m\u001b[0;32mTrue\u001b[0m\u001b[0;34m,\u001b[0m\u001b[0mannot_kws\u001b[0m\u001b[0;34m=\u001b[0m\u001b[0;34m{\u001b[0m\u001b[0;34m\"size\"\u001b[0m\u001b[0;34m:\u001b[0m \u001b[0;36m8\u001b[0m\u001b[0;34m}\u001b[0m\u001b[0;34m)\u001b[0m\u001b[0;31m# font size\u001b[0m\u001b[0;34m\u001b[0m\u001b[0;34m\u001b[0m\u001b[0m\n\u001b[0;32m---> 16\u001b[0;31m \u001b[0msn\u001b[0m\u001b[0;34m.\u001b[0m\u001b[0mplt\u001b[0m\u001b[0;34m.\u001b[0m\u001b[0mshow\u001b[0m\u001b[0;34m(\u001b[0m\u001b[0;34m)\u001b[0m\u001b[0;34m\u001b[0m\u001b[0;34m\u001b[0m\u001b[0m\n\u001b[0m",
      "\u001b[0;31mAttributeError\u001b[0m: module 'seaborn' has no attribute 'plt'"
     ]
    }
   ],
   "source": [
    "import seaborn as sn\n",
    "import pandas as pd\n",
    "import matplotlib.pyplot as plt\n",
    "\n",
    "array = [[13,1,1,0,2,0],\n",
    "     [3,9,6,0,1,0],\n",
    "     [0,0,16,2,0,0],\n",
    "     [0,0,0,13,0,0],\n",
    "     [0,0,0,0,15,0],\n",
    "     [0,0,1,0,0,15]]        \n",
    "df_cm = pd.DataFrame(array, range(6),\n",
    "                  range(6))\n",
    "#plt.figure(figsize = (10,7))\n",
    "sn.set(font_scale=1.4)#for label size\n",
    "sn.heatmap(df_cm, annot=True,annot_kws={\"size\": 8})# font size\n",
    "sn.plt.show()"
   ]
  },
  {
   "cell_type": "code",
   "execution_count": null,
   "metadata": {},
   "outputs": [],
   "source": []
  }
 ],
 "metadata": {
  "kernelspec": {
   "display_name": "Python 3",
   "language": "python",
   "name": "python3"
  },
  "language_info": {
   "codemirror_mode": {
    "name": "ipython",
    "version": 3
   },
   "file_extension": ".py",
   "mimetype": "text/x-python",
   "name": "python",
   "nbconvert_exporter": "python",
   "pygments_lexer": "ipython3",
   "version": "3.6.9"
  }
 },
 "nbformat": 4,
 "nbformat_minor": 2
}
