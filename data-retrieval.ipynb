{
 "cells": [
  {
   "cell_type": "markdown",
   "metadata": {},
   "source": [
    "# Data Retrieval\n",
    "\n",
    "This notebook outlines the steps to retrieve all data from PyPI and the subsequent GitHub data for the packages that can be identified as linking to a GitHub repo. We pull dependency graph information from GitHub along with README data."
   ]
  },
  {
   "cell_type": "code",
   "execution_count": 1,
   "metadata": {},
   "outputs": [],
   "source": [
    "# All the data from PyPI\n",
    "pypi_data_path = 'data_retrieval/data/pypi_data.json'\n",
    "\n",
    "# Only Packages from PyPI that linked to Github Repo\n",
    "pypi_github_pkgs_path = 'data_retrieval/data/pypi_github_data.json'\n",
    "\n",
    "# Data from GitHub API for packages identified in step 2\n",
    "github_data_path = 'data_retrieval/data/github_data.json'"
   ]
  },
  {
   "cell_type": "markdown",
   "metadata": {},
   "source": [
    "## 1.) Retrieve All PyPI Data"
   ]
  },
  {
   "cell_type": "code",
   "execution_count": 3,
   "metadata": {},
   "outputs": [
    {
     "name": "stderr",
     "output_type": "stream",
     "text": [
      "\r",
      "  0%|          | 0/1 [00:00<?, ?it/s]"
     ]
    },
    {
     "name": "stdout",
     "output_type": "stream",
     "text": [
      "Scanning 100 packages\n",
      "Getting all packages...\n",
      "404 Client Error: Not Found for url: https://pypi.org/pypi/biaozhun/json\n",
      "404 Client Error: Not Found for url: https://pypi.org/pypi/cdssh/json\n"
     ]
    },
    {
     "name": "stderr",
     "output_type": "stream",
     "text": [
      "100%|██████████| 1/1 [00:12<00:00, 12.29s/it]"
     ]
    },
    {
     "name": "stdout",
     "output_type": "stream",
     "text": [
      "There were 2 exceptions out of 100 requests.\n",
      "Saving data to /data...\n",
      "Saved data to: data_retrieval/data/pypi_data.json\n"
     ]
    },
    {
     "name": "stderr",
     "output_type": "stream",
     "text": [
      "\n"
     ]
    }
   ],
   "source": [
    "from data_retrieval.async_pypi_retrieval import get_all_packages\n",
    "\n",
    "# There will many 404 errors but this is expected - watch for any strange errors\n",
    "get_all_packages(save_to=pypi_data_path)"
   ]
  },
  {
   "cell_type": "markdown",
   "metadata": {},
   "source": [
    "## 2.) Find All PyPI Data That Links to a GitHub Repository"
   ]
  },
  {
   "cell_type": "code",
   "execution_count": 4,
   "metadata": {},
   "outputs": [],
   "source": [
    "import ujson\n",
    "import time\n",
    "from urllib.parse import urlparse"
   ]
  },
  {
   "cell_type": "code",
   "execution_count": 5,
   "metadata": {},
   "outputs": [],
   "source": [
    "# Load data we just collected\n",
    "with open(pypi_data_path, 'r', encoding='utf-8') as f:\n",
    "    json = ujson.loads(f.read())"
   ]
  },
  {
   "cell_type": "code",
   "execution_count": 6,
   "metadata": {},
   "outputs": [
    {
     "name": "stdout",
     "output_type": "stream",
     "text": [
      "There were  64/98 packages with github links found.\n",
      "Saving data to /data...\n",
      "Saved data to: data_retrieval/data/pypi_github_data.json\n"
     ]
    }
   ],
   "source": [
    "verbose = False\n",
    "github_packages = []\n",
    "\n",
    "for package_data in json['data']:\n",
    "    urls = package_data['project_urls']\n",
    "    if urls is None:\n",
    "        continue\n",
    "\n",
    "    is_github = False\n",
    "    for url in urls.values():\n",
    "        parsed = urlparse(url)\n",
    "        p_split = parsed.path.split('/')\n",
    "\n",
    "        # Greater than two so a user and repo is listed\n",
    "        if 'github.com' in str(parsed.netloc) and len(p_split) > 2:\n",
    "            # Build link to just repo if it goes any further\n",
    "            cleaned_github = 'https://github.com/' + p_split[1] + '/' + p_split[2] + '/'\n",
    "            package_data['github_link'] = cleaned_github\n",
    "            # Save\n",
    "            github_packages.append(package_data)\n",
    "            is_github = True\n",
    "            break\n",
    "\n",
    "    if not is_github and verbose:\n",
    "        # View all links associated with packages NOT identified as having a GitHub Link\n",
    "        # Helpful to ensure we don't miss anyy\n",
    "        print(f'Is not github: {urls} from {package_data[\"name\"]}')\n",
    "        \n",
    "# Log and save at completion\n",
    "print(f'There were  {len(github_packages)}/{len(json[\"data\"])} packages with github links found.')\n",
    "print(f'Saving data to /data...')\n",
    "with open(pypi_github_pkgs_path, 'w', encoding='utf-8') as f:\n",
    "    ujson.dump({\n",
    "        \"data\": github_packages,\n",
    "        \"timestamp\": time.time()\n",
    "    }, f)\n",
    "\n",
    "print(f'Saved data to: {pypi_github_pkgs_path}')"
   ]
  },
  {
   "cell_type": "markdown",
   "metadata": {},
   "source": [
    "## 3.) Retrieve data from GitHub API\n",
    "\n",
    "This is the trickiest part of the data to get due to being ratelimited by GitHub's API. To get this without constantly re-running the script every hour this while loop will run checking if requests will be served or rate limited - until stopped.\n",
    "\n",
    "This means **the looping cell will need to be terminated by hand after a couple days or so** (takes that long to go through all the data.)"
   ]
  },
  {
   "cell_type": "code",
   "execution_count": 7,
   "metadata": {},
   "outputs": [],
   "source": [
    "from environs import Env\n",
    "\n",
    "env = Env()\n",
    "env.read_env()\n",
    "\n",
    "github_auth = env(\"GITHUB_AUTH\")"
   ]
  },
  {
   "cell_type": "code",
   "execution_count": 11,
   "metadata": {},
   "outputs": [],
   "source": [
    "import time\n",
    "from data_retrieval.async_github_retrieval import RetrieveGitHubData\n",
    "from data_retrieval.github_utils import GitHubUtils\n",
    "\n",
    "github_utils = GitHubUtils(github_auth)\n",
    "github_retrieval = RetrieveGitHubData(github_data_path, pypi_github_pkgs_path, github_auth)"
   ]
  },
  {
   "cell_type": "code",
   "execution_count": 12,
   "metadata": {},
   "outputs": [
    {
     "name": "stdout",
     "output_type": "stream",
     "text": [
      "Initialized Data Map to: data_retrieval/data/github_data.json\n"
     ]
    }
   ],
   "source": [
    "# Initialize file with structure to allow us to update a state\n",
    "# Will only need to run this cell once!\n",
    "github_retrieval.init_data_map()"
   ]
  },
  {
   "cell_type": "markdown",
   "metadata": {},
   "source": [
    "This cell below **will need to be terminated by hand after a couple days or so** (takes that long to go through all the data.)\n",
    "\n",
    "Expect to see errors like \"loading\", \"403\", and \"rate_limited\""
   ]
  },
  {
   "cell_type": "code",
   "execution_count": 13,
   "metadata": {},
   "outputs": [
    {
     "name": "stderr",
     "output_type": "stream",
     "text": [
      "\r",
      "  0%|          | 0/1 [00:00<?, ?it/s]"
     ]
    },
    {
     "name": "stdout",
     "output_type": "stream",
     "text": [
      "CLEARING ERRORS...\n",
      "Saving data to /data...\n",
      "Saved data to: data_retrieval/data/github_data.json\n",
      "\n",
      "------------- SOME STATS -------------------\n",
      "There were 0 packages with data\n",
      "There were 0 packages that throw errors\n",
      "There are 64 packages total\n",
      "--------------------------------------------\n",
      "\n",
      "\n",
      "\n",
      "WITHIN RATE LIMIT!\n",
      "Setting up packages to be distributed to workers...\n",
      "Getting all github data...\n",
      "\n",
      "Error: {'path': ['repository', 'dependencyGraphManifests'], 'locations': [{'line': 5, 'column': 5}], 'message': 'loading'} \n",
      " URL: https://github.com/tarkatronic/django-excel-response/\n",
      "\n",
      "\n",
      "Error: {'path': ['repository', 'dependencyGraphManifests'], 'locations': [{'line': 5, 'column': 5}], 'message': 'loading'} \n",
      " URL: https://github.com/hchasestevens/astpath/\n",
      "\n",
      "\n",
      "Error: {'path': ['repository', 'dependencyGraphManifests'], 'locations': [{'line': 5, 'column': 5}], 'message': 'loading'} \n",
      " URL: https://github.com/cjrh/sqllogformatter/\n",
      "\n",
      "\n",
      "Error: {'path': ['repository', 'dependencyGraphManifests'], 'locations': [{'line': 5, 'column': 5}], 'message': 'loading'} \n",
      " URL: https://github.com/oulenz/fuzzy-rough-learn/\n",
      "\n",
      "\n",
      "Error: {'path': ['repository', 'dependencyGraphManifests'], 'locations': [{'line': 5, 'column': 5}], 'message': 'loading'} \n",
      " URL: https://github.com/sc-1123/testspeed/\n",
      "\n",
      "\n",
      "Error: {'path': ['repository', 'dependencyGraphManifests'], 'locations': [{'line': 5, 'column': 5}], 'message': 'loading'} \n",
      " URL: https://github.com/rickjordan/django-elmah/\n",
      "\n",
      "\n",
      "Error: {'path': ['repository', 'dependencyGraphManifests'], 'locations': [{'line': 5, 'column': 5}], 'message': 'loading'} \n",
      " URL: https://github.com/kajala/django-jauth/\n",
      "\n"
     ]
    },
    {
     "name": "stderr",
     "output_type": "stream",
     "text": [
      "100%|██████████| 1/1 [01:02<00:00, 62.96s/it]\n",
      "100%|██████████| 1/1 [00:00<00:00, 4236.67it/s]"
     ]
    },
    {
     "name": "stdout",
     "output_type": "stream",
     "text": [
      "There were 14 exceptions out of 64 requests.\n",
      "Saving data...\n",
      "Saved data to: data_retrieval/data/github_data.json\n",
      "\n",
      "------------- SOME STATS -------------------\n",
      "There were 50 packages with data\n",
      "There were 14 packages that throw errors\n",
      "There are 64 packages total\n",
      "--------------------------------------------\n",
      "\n",
      "\n",
      "\n",
      "WITHIN RATE LIMIT!\n",
      "Setting up packages to be distributed to workers...\n",
      "Getting all github data...\n"
     ]
    },
    {
     "name": "stderr",
     "output_type": "stream",
     "text": [
      "\n",
      "100%|██████████| 1/1 [00:00<00:00, 6636.56it/s]"
     ]
    },
    {
     "name": "stdout",
     "output_type": "stream",
     "text": [
      "There were 0 exceptions out of 64 requests.\n",
      "Saving data...\n",
      "Saved data to: data_retrieval/data/github_data.json\n",
      "\n",
      "------------- SOME STATS -------------------\n",
      "There were 50 packages with data\n",
      "There were 14 packages that throw errors\n",
      "There are 64 packages total\n",
      "--------------------------------------------\n",
      "\n",
      "\n",
      "\n",
      "WITHIN RATE LIMIT!\n",
      "Setting up packages to be distributed to workers...\n",
      "Getting all github data...\n"
     ]
    },
    {
     "name": "stderr",
     "output_type": "stream",
     "text": [
      "\n",
      "100%|██████████| 1/1 [00:00<00:00, 7145.32it/s]"
     ]
    },
    {
     "name": "stdout",
     "output_type": "stream",
     "text": [
      "There were 0 exceptions out of 64 requests.\n",
      "Saving data...\n",
      "Saved data to: data_retrieval/data/github_data.json\n",
      "\n",
      "------------- SOME STATS -------------------\n",
      "There were 50 packages with data\n",
      "There were 14 packages that throw errors\n",
      "There are 64 packages total\n",
      "--------------------------------------------\n",
      "\n",
      "\n",
      "\n",
      "WITHIN RATE LIMIT!\n",
      "Setting up packages to be distributed to workers...\n",
      "Getting all github data...\n"
     ]
    },
    {
     "name": "stderr",
     "output_type": "stream",
     "text": [
      "\n",
      "100%|██████████| 1/1 [00:00<00:00, 5405.03it/s]"
     ]
    },
    {
     "name": "stdout",
     "output_type": "stream",
     "text": [
      "There were 0 exceptions out of 64 requests.\n",
      "Saving data...\n",
      "Saved data to: data_retrieval/data/github_data.json\n",
      "\n",
      "------------- SOME STATS -------------------\n",
      "There were 50 packages with data\n",
      "There were 14 packages that throw errors\n",
      "There are 64 packages total\n",
      "--------------------------------------------\n",
      "\n",
      "\n",
      "\n",
      "WITHIN RATE LIMIT!\n",
      "Setting up packages to be distributed to workers...\n",
      "Getting all github data...\n"
     ]
    },
    {
     "name": "stderr",
     "output_type": "stream",
     "text": [
      "\n",
      "100%|██████████| 1/1 [00:00<00:00, 6141.00it/s]"
     ]
    },
    {
     "name": "stdout",
     "output_type": "stream",
     "text": [
      "There were 0 exceptions out of 64 requests.\n",
      "Saving data...\n",
      "Saved data to: data_retrieval/data/github_data.json\n",
      "\n",
      "------------- SOME STATS -------------------\n",
      "There were 50 packages with data\n",
      "There were 14 packages that throw errors\n",
      "There are 64 packages total\n",
      "--------------------------------------------\n",
      "\n",
      "\n",
      "\n",
      "WITHIN RATE LIMIT!\n",
      "Setting up packages to be distributed to workers...\n",
      "Getting all github data...\n"
     ]
    },
    {
     "name": "stderr",
     "output_type": "stream",
     "text": [
      "\n"
     ]
    },
    {
     "name": "stdout",
     "output_type": "stream",
     "text": [
      "There were 0 exceptions out of 64 requests.\n",
      "Saving data...\n",
      "Saved data to: data_retrieval/data/github_data.json\n",
      "\n",
      "------------- SOME STATS -------------------\n",
      "There were 50 packages with data\n",
      "There were 14 packages that throw errors\n",
      "There are 64 packages total\n",
      "--------------------------------------------\n",
      "\n",
      "\n",
      "\n",
      "WITHIN RATE LIMIT!\n",
      "Setting up packages to be distributed to workers...\n"
     ]
    },
    {
     "name": "stderr",
     "output_type": "stream",
     "text": [
      "100%|██████████| 1/1 [00:00<00:00, 6689.48it/s]"
     ]
    },
    {
     "name": "stdout",
     "output_type": "stream",
     "text": [
      "Getting all github data...\n",
      "There were 0 exceptions out of 64 requests.\n",
      "Saving data...\n",
      "Saved data to: data_retrieval/data/github_data.json\n",
      "\n",
      "------------- SOME STATS -------------------\n",
      "There were 50 packages with data\n",
      "There were 14 packages that throw errors\n",
      "There are 64 packages total\n",
      "--------------------------------------------\n",
      "\n",
      "\n"
     ]
    },
    {
     "name": "stderr",
     "output_type": "stream",
     "text": [
      "\n",
      "100%|██████████| 1/1 [00:00<00:00, 2837.82it/s]"
     ]
    },
    {
     "name": "stdout",
     "output_type": "stream",
     "text": [
      "\n",
      "WITHIN RATE LIMIT!\n",
      "Setting up packages to be distributed to workers...\n",
      "Getting all github data...\n",
      "There were 0 exceptions out of 64 requests.\n",
      "Saving data...\n",
      "Saved data to: data_retrieval/data/github_data.json\n",
      "\n",
      "------------- SOME STATS -------------------\n",
      "There were 50 packages with data\n",
      "There were 14 packages that throw errors\n",
      "There are 64 packages total\n",
      "--------------------------------------------\n",
      "\n",
      "\n"
     ]
    },
    {
     "name": "stderr",
     "output_type": "stream",
     "text": [
      "\n",
      "100%|██████████| 1/1 [00:00<00:00, 6990.51it/s]"
     ]
    },
    {
     "name": "stdout",
     "output_type": "stream",
     "text": [
      "\n",
      "WITHIN RATE LIMIT!\n",
      "Setting up packages to be distributed to workers...\n",
      "Getting all github data...\n",
      "There were 0 exceptions out of 64 requests.\n",
      "Saving data...\n",
      "Saved data to: data_retrieval/data/github_data.json\n",
      "\n",
      "------------- SOME STATS -------------------\n",
      "There were 50 packages with data\n",
      "There were 14 packages that throw errors\n",
      "There are 64 packages total\n",
      "--------------------------------------------\n",
      "\n",
      "\n"
     ]
    },
    {
     "name": "stderr",
     "output_type": "stream",
     "text": [
      "\n",
      "100%|██████████| 1/1 [00:00<00:00, 4583.94it/s]"
     ]
    },
    {
     "name": "stdout",
     "output_type": "stream",
     "text": [
      "\n",
      "WITHIN RATE LIMIT!\n",
      "Setting up packages to be distributed to workers...\n",
      "Getting all github data...\n",
      "There were 0 exceptions out of 64 requests.\n",
      "Saving data...\n",
      "Saved data to: data_retrieval/data/github_data.json\n",
      "\n",
      "------------- SOME STATS -------------------\n",
      "There were 50 packages with data\n",
      "There were 14 packages that throw errors\n",
      "There are 64 packages total\n",
      "--------------------------------------------\n",
      "\n",
      "\n"
     ]
    },
    {
     "name": "stderr",
     "output_type": "stream",
     "text": [
      "\n",
      "100%|██████████| 1/1 [00:00<00:00, 5849.80it/s]"
     ]
    },
    {
     "name": "stdout",
     "output_type": "stream",
     "text": [
      "\n",
      "WITHIN RATE LIMIT!\n",
      "Setting up packages to be distributed to workers...\n",
      "Getting all github data...\n",
      "There were 0 exceptions out of 64 requests.\n",
      "Saving data...\n",
      "Saved data to: data_retrieval/data/github_data.json\n",
      "\n",
      "------------- SOME STATS -------------------\n",
      "There were 50 packages with data\n",
      "There were 14 packages that throw errors\n",
      "There are 64 packages total\n",
      "--------------------------------------------\n",
      "\n",
      "\n"
     ]
    },
    {
     "name": "stderr",
     "output_type": "stream",
     "text": [
      "\n",
      "100%|██████████| 1/1 [00:00<00:00, 8774.69it/s]"
     ]
    },
    {
     "name": "stdout",
     "output_type": "stream",
     "text": [
      "\n",
      "WITHIN RATE LIMIT!\n",
      "Setting up packages to be distributed to workers...\n",
      "Getting all github data...\n",
      "There were 0 exceptions out of 64 requests.\n",
      "Saving data...\n",
      "Saved data to: data_retrieval/data/github_data.json\n",
      "\n",
      "------------- SOME STATS -------------------\n",
      "There were 50 packages with data\n",
      "There were 14 packages that throw errors\n",
      "There are 64 packages total\n",
      "--------------------------------------------\n",
      "\n",
      "\n"
     ]
    },
    {
     "name": "stderr",
     "output_type": "stream",
     "text": [
      "\n",
      "100%|██████████| 1/1 [00:00<00:00, 6932.73it/s]"
     ]
    },
    {
     "name": "stdout",
     "output_type": "stream",
     "text": [
      "\n",
      "WITHIN RATE LIMIT!\n",
      "Setting up packages to be distributed to workers...\n",
      "Getting all github data...\n",
      "There were 0 exceptions out of 64 requests.\n",
      "Saving data...\n",
      "Saved data to: data_retrieval/data/github_data.json\n",
      "\n",
      "------------- SOME STATS -------------------\n",
      "There were 50 packages with data\n",
      "There were 14 packages that throw errors\n",
      "There are 64 packages total\n",
      "--------------------------------------------\n",
      "\n",
      "\n"
     ]
    },
    {
     "name": "stderr",
     "output_type": "stream",
     "text": [
      "\n",
      "100%|██████████| 1/1 [00:00<00:00, 6374.32it/s]"
     ]
    },
    {
     "name": "stdout",
     "output_type": "stream",
     "text": [
      "\n",
      "WITHIN RATE LIMIT!\n",
      "Setting up packages to be distributed to workers...\n",
      "Getting all github data...\n",
      "There were 0 exceptions out of 64 requests.\n",
      "Saving data...\n",
      "Saved data to: data_retrieval/data/github_data.json\n",
      "\n",
      "------------- SOME STATS -------------------\n",
      "There were 50 packages with data\n",
      "There were 14 packages that throw errors\n",
      "There are 64 packages total\n",
      "--------------------------------------------\n",
      "\n",
      "\n"
     ]
    },
    {
     "name": "stderr",
     "output_type": "stream",
     "text": [
      "\n",
      "100%|██████████| 1/1 [00:00<00:00, 6326.25it/s]"
     ]
    },
    {
     "name": "stdout",
     "output_type": "stream",
     "text": [
      "\n",
      "WITHIN RATE LIMIT!\n",
      "Setting up packages to be distributed to workers...\n",
      "Getting all github data...\n",
      "There were 0 exceptions out of 64 requests.\n",
      "Saving data...\n",
      "Saved data to: data_retrieval/data/github_data.json\n",
      "\n",
      "------------- SOME STATS -------------------\n",
      "There were 50 packages with data\n",
      "There were 14 packages that throw errors\n",
      "There are 64 packages total\n",
      "--------------------------------------------\n",
      "\n",
      "\n"
     ]
    },
    {
     "name": "stderr",
     "output_type": "stream",
     "text": [
      "\n",
      "100%|██████████| 1/1 [00:00<00:00, 7928.74it/s]"
     ]
    },
    {
     "name": "stdout",
     "output_type": "stream",
     "text": [
      "\n",
      "WITHIN RATE LIMIT!\n",
      "Setting up packages to be distributed to workers...\n",
      "Getting all github data...\n",
      "There were 0 exceptions out of 64 requests.\n",
      "Saving data...\n",
      "Saved data to: data_retrieval/data/github_data.json\n",
      "\n",
      "------------- SOME STATS -------------------\n",
      "There were 50 packages with data\n",
      "There were 14 packages that throw errors\n",
      "There are 64 packages total\n",
      "--------------------------------------------\n",
      "\n",
      "\n"
     ]
    },
    {
     "name": "stderr",
     "output_type": "stream",
     "text": [
      "\n",
      "100%|██████████| 1/1 [00:00<00:00, 3688.92it/s]"
     ]
    },
    {
     "name": "stdout",
     "output_type": "stream",
     "text": [
      "\n",
      "WITHIN RATE LIMIT!\n",
      "Setting up packages to be distributed to workers...\n",
      "Getting all github data...\n",
      "There were 0 exceptions out of 64 requests.\n",
      "Saving data...\n",
      "Saved data to: data_retrieval/data/github_data.json\n",
      "\n",
      "------------- SOME STATS -------------------\n",
      "There were 50 packages with data\n",
      "There were 14 packages that throw errors\n",
      "There are 64 packages total\n",
      "--------------------------------------------\n",
      "\n",
      "\n"
     ]
    },
    {
     "name": "stderr",
     "output_type": "stream",
     "text": [
      "\n",
      "100%|██████████| 1/1 [00:00<00:00, 3106.89it/s]"
     ]
    },
    {
     "name": "stdout",
     "output_type": "stream",
     "text": [
      "\n",
      "WITHIN RATE LIMIT!\n",
      "Setting up packages to be distributed to workers...\n",
      "Getting all github data...\n",
      "There were 0 exceptions out of 64 requests.\n",
      "Saving data...\n",
      "Saved data to: data_retrieval/data/github_data.json\n",
      "\n",
      "------------- SOME STATS -------------------\n",
      "There were 50 packages with data\n",
      "There were 14 packages that throw errors\n",
      "There are 64 packages total\n",
      "--------------------------------------------\n",
      "\n",
      "\n"
     ]
    },
    {
     "name": "stderr",
     "output_type": "stream",
     "text": [
      "\n",
      "100%|██████████| 1/1 [00:00<00:00, 2208.69it/s]"
     ]
    },
    {
     "name": "stdout",
     "output_type": "stream",
     "text": [
      "\n",
      "WITHIN RATE LIMIT!\n",
      "Setting up packages to be distributed to workers...\n",
      "Getting all github data...\n",
      "There were 0 exceptions out of 64 requests.\n",
      "Saving data...\n",
      "Saved data to: data_retrieval/data/github_data.json\n",
      "\n",
      "------------- SOME STATS -------------------\n",
      "There were 50 packages with data\n",
      "There were 14 packages that throw errors\n",
      "There are 64 packages total\n",
      "--------------------------------------------\n",
      "\n",
      "\n"
     ]
    },
    {
     "name": "stderr",
     "output_type": "stream",
     "text": [
      "\n",
      "100%|██████████| 1/1 [00:00<00:00, 2473.06it/s]"
     ]
    },
    {
     "name": "stdout",
     "output_type": "stream",
     "text": [
      "\n",
      "WITHIN RATE LIMIT!\n",
      "Setting up packages to be distributed to workers...\n",
      "Getting all github data...\n",
      "There were 0 exceptions out of 64 requests.\n",
      "Saving data...\n",
      "Saved data to: data_retrieval/data/github_data.json\n",
      "\n",
      "------------- SOME STATS -------------------\n",
      "There were 50 packages with data\n",
      "There were 14 packages that throw errors\n",
      "There are 64 packages total\n",
      "--------------------------------------------\n",
      "\n",
      "\n",
      "CLEARING ERRORS...\n",
      "Saving data to /data...\n",
      "Saved data to: data_retrieval/data/github_data.json\n",
      "\n",
      "------------- SOME STATS -------------------\n",
      "There were 50 packages with data\n",
      "There were 7 packages that throw errors\n",
      "There are 64 packages total\n",
      "--------------------------------------------\n",
      "\n",
      "\n"
     ]
    },
    {
     "name": "stderr",
     "output_type": "stream",
     "text": [
      "\n",
      "  0%|          | 0/1 [00:00<?, ?it/s]"
     ]
    },
    {
     "name": "stdout",
     "output_type": "stream",
     "text": [
      "\n",
      "WITHIN RATE LIMIT!\n",
      "Setting up packages to be distributed to workers...\n",
      "Getting all github data...\n"
     ]
    },
    {
     "name": "stderr",
     "output_type": "stream",
     "text": [
      "100%|██████████| 1/1 [00:05<00:00,  5.18s/it]\n"
     ]
    },
    {
     "name": "stdout",
     "output_type": "stream",
     "text": [
      "There were 0 exceptions out of 64 requests.\n",
      "Saving data...\n",
      "Saved data to: data_retrieval/data/github_data.json\n",
      "\n",
      "------------- SOME STATS -------------------\n",
      "There were 57 packages with data\n",
      "There were 7 packages that throw errors\n",
      "There are 64 packages total\n",
      "--------------------------------------------\n",
      "\n",
      "\n",
      "\n",
      "WITHIN RATE LIMIT!\n",
      "Setting up packages to be distributed to workers...\n"
     ]
    },
    {
     "name": "stderr",
     "output_type": "stream",
     "text": [
      "100%|██████████| 1/1 [00:00<00:00, 5405.03it/s]"
     ]
    },
    {
     "name": "stdout",
     "output_type": "stream",
     "text": [
      "Getting all github data...\n",
      "There were 0 exceptions out of 64 requests.\n",
      "Saving data...\n",
      "Saved data to: data_retrieval/data/github_data.json\n",
      "\n",
      "------------- SOME STATS -------------------\n",
      "There were 57 packages with data\n",
      "There were 7 packages that throw errors\n",
      "There are 64 packages total\n",
      "--------------------------------------------\n",
      "\n",
      "\n"
     ]
    },
    {
     "name": "stderr",
     "output_type": "stream",
     "text": [
      "\n",
      "100%|██████████| 1/1 [00:00<00:00, 6732.43it/s]"
     ]
    },
    {
     "name": "stdout",
     "output_type": "stream",
     "text": [
      "\n",
      "WITHIN RATE LIMIT!\n",
      "Setting up packages to be distributed to workers...\n",
      "Getting all github data...\n",
      "There were 0 exceptions out of 64 requests.\n",
      "Saving data...\n",
      "Saved data to: data_retrieval/data/github_data.json\n",
      "\n",
      "------------- SOME STATS -------------------\n",
      "There were 57 packages with data\n",
      "There were 7 packages that throw errors\n",
      "There are 64 packages total\n",
      "--------------------------------------------\n",
      "\n",
      "\n"
     ]
    },
    {
     "name": "stderr",
     "output_type": "stream",
     "text": [
      "\n",
      "100%|██████████| 1/1 [00:00<00:00, 7530.17it/s]"
     ]
    },
    {
     "name": "stdout",
     "output_type": "stream",
     "text": [
      "\n",
      "WITHIN RATE LIMIT!\n",
      "Setting up packages to be distributed to workers...\n",
      "Getting all github data...\n",
      "There were 0 exceptions out of 64 requests.\n",
      "Saving data...\n",
      "Saved data to: data_retrieval/data/github_data.json\n",
      "\n",
      "------------- SOME STATS -------------------\n",
      "There were 57 packages with data\n",
      "There were 7 packages that throw errors\n",
      "There are 64 packages total\n",
      "--------------------------------------------\n",
      "\n",
      "\n"
     ]
    },
    {
     "name": "stderr",
     "output_type": "stream",
     "text": [
      "\n",
      "100%|██████████| 1/1 [00:00<00:00, 3189.58it/s]"
     ]
    },
    {
     "name": "stdout",
     "output_type": "stream",
     "text": [
      "\n",
      "WITHIN RATE LIMIT!\n",
      "Setting up packages to be distributed to workers...\n",
      "Getting all github data...\n",
      "There were 0 exceptions out of 64 requests.\n",
      "Saving data...\n",
      "Saved data to: data_retrieval/data/github_data.json\n",
      "\n",
      "------------- SOME STATS -------------------\n",
      "There were 57 packages with data\n",
      "There were 7 packages that throw errors\n",
      "There are 64 packages total\n",
      "--------------------------------------------\n",
      "\n",
      "\n"
     ]
    },
    {
     "name": "stderr",
     "output_type": "stream",
     "text": [
      "\n",
      "100%|██████████| 1/1 [00:00<00:00, 8272.79it/s]"
     ]
    },
    {
     "name": "stdout",
     "output_type": "stream",
     "text": [
      "\n",
      "WITHIN RATE LIMIT!\n",
      "Setting up packages to be distributed to workers...\n",
      "Getting all github data...\n",
      "There were 0 exceptions out of 64 requests.\n",
      "Saving data...\n",
      "Saved data to: data_retrieval/data/github_data.json\n",
      "\n",
      "------------- SOME STATS -------------------\n",
      "There were 57 packages with data\n",
      "There were 7 packages that throw errors\n",
      "There are 64 packages total\n",
      "--------------------------------------------\n",
      "\n",
      "\n"
     ]
    },
    {
     "name": "stderr",
     "output_type": "stream",
     "text": [
      "\n",
      "100%|██████████| 1/1 [00:00<00:00, 9822.73it/s]"
     ]
    },
    {
     "name": "stdout",
     "output_type": "stream",
     "text": [
      "\n",
      "WITHIN RATE LIMIT!\n",
      "Setting up packages to be distributed to workers...\n",
      "Getting all github data...\n",
      "There were 0 exceptions out of 64 requests.\n",
      "Saving data...\n",
      "Saved data to: data_retrieval/data/github_data.json\n",
      "\n",
      "------------- SOME STATS -------------------\n",
      "There were 57 packages with data\n",
      "There were 7 packages that throw errors\n",
      "There are 64 packages total\n",
      "--------------------------------------------\n",
      "\n",
      "\n"
     ]
    },
    {
     "name": "stderr",
     "output_type": "stream",
     "text": [
      "\n",
      "100%|██████████| 1/1 [00:00<00:00, 2755.78it/s]"
     ]
    },
    {
     "name": "stdout",
     "output_type": "stream",
     "text": [
      "\n",
      "WITHIN RATE LIMIT!\n",
      "Setting up packages to be distributed to workers...\n",
      "Getting all github data...\n",
      "There were 0 exceptions out of 64 requests.\n",
      "Saving data...\n",
      "Saved data to: data_retrieval/data/github_data.json\n",
      "\n",
      "------------- SOME STATS -------------------\n",
      "There were 57 packages with data\n",
      "There were 7 packages that throw errors\n",
      "There are 64 packages total\n",
      "--------------------------------------------\n",
      "\n",
      "\n"
     ]
    },
    {
     "name": "stderr",
     "output_type": "stream",
     "text": [
      "\n",
      "100%|██████████| 1/1 [00:00<00:00, 2916.76it/s]"
     ]
    },
    {
     "name": "stdout",
     "output_type": "stream",
     "text": [
      "\n",
      "WITHIN RATE LIMIT!\n",
      "Setting up packages to be distributed to workers...\n",
      "Getting all github data...\n",
      "There were 0 exceptions out of 64 requests.\n",
      "Saving data...\n",
      "Saved data to: data_retrieval/data/github_data.json\n",
      "\n",
      "------------- SOME STATS -------------------\n",
      "There were 57 packages with data\n",
      "There were 7 packages that throw errors\n",
      "There are 64 packages total\n",
      "--------------------------------------------\n",
      "\n",
      "\n"
     ]
    },
    {
     "name": "stderr",
     "output_type": "stream",
     "text": [
      "\n",
      "100%|██████████| 1/1 [00:00<00:00, 6574.14it/s]"
     ]
    },
    {
     "name": "stdout",
     "output_type": "stream",
     "text": [
      "\n",
      "WITHIN RATE LIMIT!\n",
      "Setting up packages to be distributed to workers...\n",
      "Getting all github data...\n",
      "There were 0 exceptions out of 64 requests.\n",
      "Saving data...\n",
      "Saved data to: data_retrieval/data/github_data.json\n",
      "\n",
      "------------- SOME STATS -------------------\n",
      "There were 57 packages with data\n",
      "There were 7 packages that throw errors\n",
      "There are 64 packages total\n",
      "--------------------------------------------\n",
      "\n",
      "\n"
     ]
    },
    {
     "name": "stderr",
     "output_type": "stream",
     "text": [
      "\n",
      "100%|██████████| 1/1 [00:00<00:00, 6898.53it/s]"
     ]
    },
    {
     "name": "stdout",
     "output_type": "stream",
     "text": [
      "\n",
      "WITHIN RATE LIMIT!\n",
      "Setting up packages to be distributed to workers...\n",
      "Getting all github data...\n",
      "There were 0 exceptions out of 64 requests.\n",
      "Saving data...\n",
      "Saved data to: data_retrieval/data/github_data.json\n",
      "\n",
      "------------- SOME STATS -------------------\n",
      "There were 57 packages with data\n",
      "There were 7 packages that throw errors\n",
      "There are 64 packages total\n",
      "--------------------------------------------\n",
      "\n",
      "\n"
     ]
    },
    {
     "name": "stderr",
     "output_type": "stream",
     "text": [
      "\n",
      "100%|██████████| 1/1 [00:00<00:00, 6403.52it/s]"
     ]
    },
    {
     "name": "stdout",
     "output_type": "stream",
     "text": [
      "\n",
      "WITHIN RATE LIMIT!\n",
      "Setting up packages to be distributed to workers...\n",
      "Getting all github data...\n",
      "There were 0 exceptions out of 64 requests.\n",
      "Saving data...\n",
      "Saved data to: data_retrieval/data/github_data.json\n",
      "\n",
      "------------- SOME STATS -------------------\n",
      "There were 57 packages with data\n",
      "There were 7 packages that throw errors\n",
      "There are 64 packages total\n",
      "--------------------------------------------\n",
      "\n",
      "\n"
     ]
    },
    {
     "name": "stderr",
     "output_type": "stream",
     "text": [
      "\n",
      "100%|██████████| 1/1 [00:00<00:00, 4957.81it/s]"
     ]
    },
    {
     "name": "stdout",
     "output_type": "stream",
     "text": [
      "\n",
      "WITHIN RATE LIMIT!\n",
      "Setting up packages to be distributed to workers...\n",
      "Getting all github data...\n",
      "There were 0 exceptions out of 64 requests.\n",
      "Saving data...\n",
      "Saved data to: data_retrieval/data/github_data.json\n",
      "\n",
      "------------- SOME STATS -------------------\n",
      "There were 57 packages with data\n",
      "There were 7 packages that throw errors\n",
      "There are 64 packages total\n",
      "--------------------------------------------\n",
      "\n",
      "\n"
     ]
    },
    {
     "name": "stderr",
     "output_type": "stream",
     "text": [
      "\n",
      "100%|██████████| 1/1 [00:00<00:00, 2385.84it/s]"
     ]
    },
    {
     "name": "stdout",
     "output_type": "stream",
     "text": [
      "\n",
      "WITHIN RATE LIMIT!\n",
      "Setting up packages to be distributed to workers...\n",
      "Getting all github data...\n",
      "There were 0 exceptions out of 64 requests.\n",
      "Saving data...\n",
      "Saved data to: data_retrieval/data/github_data.json\n",
      "\n",
      "------------- SOME STATS -------------------\n",
      "There were 57 packages with data\n",
      "There were 7 packages that throw errors\n",
      "There are 64 packages total\n",
      "--------------------------------------------\n",
      "\n",
      "\n"
     ]
    },
    {
     "name": "stderr",
     "output_type": "stream",
     "text": [
      "\n",
      "100%|██████████| 1/1 [00:00<00:00, 8272.79it/s]"
     ]
    },
    {
     "name": "stdout",
     "output_type": "stream",
     "text": [
      "\n",
      "WITHIN RATE LIMIT!\n",
      "Setting up packages to be distributed to workers...\n",
      "Getting all github data...\n",
      "There were 0 exceptions out of 64 requests.\n",
      "Saving data...\n",
      "Saved data to: data_retrieval/data/github_data.json\n",
      "\n",
      "------------- SOME STATS -------------------\n",
      "There were 57 packages with data\n",
      "There were 7 packages that throw errors\n",
      "There are 64 packages total\n",
      "--------------------------------------------\n",
      "\n",
      "\n"
     ]
    },
    {
     "name": "stderr",
     "output_type": "stream",
     "text": [
      "\n",
      "100%|██████████| 1/1 [00:00<00:00, 6141.00it/s]"
     ]
    },
    {
     "name": "stdout",
     "output_type": "stream",
     "text": [
      "\n",
      "WITHIN RATE LIMIT!\n",
      "Setting up packages to be distributed to workers...\n",
      "Getting all github data...\n",
      "There were 0 exceptions out of 64 requests.\n",
      "Saving data...\n",
      "Saved data to: data_retrieval/data/github_data.json\n",
      "\n",
      "------------- SOME STATS -------------------\n",
      "There were 57 packages with data\n",
      "There were 7 packages that throw errors\n",
      "There are 64 packages total\n",
      "--------------------------------------------\n",
      "\n",
      "\n"
     ]
    },
    {
     "name": "stderr",
     "output_type": "stream",
     "text": [
      "\n",
      "100%|██████████| 1/1 [00:00<00:00, 10407.70it/s]"
     ]
    },
    {
     "name": "stdout",
     "output_type": "stream",
     "text": [
      "\n",
      "WITHIN RATE LIMIT!\n",
      "Setting up packages to be distributed to workers...\n",
      "Getting all github data...\n",
      "There were 0 exceptions out of 64 requests.\n",
      "Saving data...\n",
      "Saved data to: data_retrieval/data/github_data.json\n",
      "\n",
      "------------- SOME STATS -------------------\n",
      "There were 57 packages with data\n",
      "There were 7 packages that throw errors\n",
      "There are 64 packages total\n",
      "--------------------------------------------\n",
      "\n",
      "\n"
     ]
    },
    {
     "name": "stderr",
     "output_type": "stream",
     "text": [
      "\n",
      "100%|██████████| 1/1 [00:00<00:00, 7928.74it/s]"
     ]
    },
    {
     "name": "stdout",
     "output_type": "stream",
     "text": [
      "\n",
      "WITHIN RATE LIMIT!\n",
      "Setting up packages to be distributed to workers...\n",
      "Getting all github data...\n",
      "There were 0 exceptions out of 64 requests.\n",
      "Saving data...\n",
      "Saved data to: data_retrieval/data/github_data.json\n",
      "\n",
      "------------- SOME STATS -------------------\n",
      "There were 57 packages with data\n",
      "There were 7 packages that throw errors\n",
      "There are 64 packages total\n",
      "--------------------------------------------\n",
      "\n",
      "\n"
     ]
    },
    {
     "name": "stderr",
     "output_type": "stream",
     "text": [
      "\n"
     ]
    },
    {
     "name": "stdout",
     "output_type": "stream",
     "text": [
      "WEIRD ERROR: \n",
      "Waiting 5 Minutes...\n"
     ]
    },
    {
     "ename": "KeyboardInterrupt",
     "evalue": "",
     "output_type": "error",
     "traceback": [
      "\u001b[0;31m---------------------------------------------------------------------------\u001b[0m",
      "\u001b[0;31mKeyboardInterrupt\u001b[0m                         Traceback (most recent call last)",
      "\u001b[0;32m<ipython-input-13-0272535155d5>\u001b[0m in \u001b[0;36m<module>\u001b[0;34m\u001b[0m\n\u001b[1;32m     10\u001b[0m         \u001b[0;32melse\u001b[0m\u001b[0;34m:\u001b[0m\u001b[0;34m\u001b[0m\u001b[0;34m\u001b[0m\u001b[0m\n\u001b[1;32m     11\u001b[0m             \u001b[0mprint\u001b[0m\u001b[0;34m(\u001b[0m\u001b[0;34m'Waiting 5 Minutes...'\u001b[0m\u001b[0;34m)\u001b[0m\u001b[0;34m\u001b[0m\u001b[0;34m\u001b[0m\u001b[0m\n\u001b[0;32m---> 12\u001b[0;31m             \u001b[0mtime\u001b[0m\u001b[0;34m.\u001b[0m\u001b[0msleep\u001b[0m\u001b[0;34m(\u001b[0m\u001b[0;36m60\u001b[0m \u001b[0;34m*\u001b[0m \u001b[0;36m5\u001b[0m\u001b[0;34m)\u001b[0m\u001b[0;34m\u001b[0m\u001b[0;34m\u001b[0m\u001b[0m\n\u001b[0m",
      "\u001b[0;31mKeyboardInterrupt\u001b[0m: "
     ]
    }
   ],
   "source": [
    "while True:\n",
    "    github_retrieval.clear_error()\n",
    "    # Every 20 successes clear errors\n",
    "    successes = 0\n",
    "    while successes < 20:\n",
    "        if github_utils.within_github_rate_limit():\n",
    "            print('\\nWITHIN RATE LIMIT!')\n",
    "            successes += 1\n",
    "            github_retrieval.get_all_github_data()\n",
    "        else:\n",
    "            print('Waiting 5 Minutes...')\n",
    "            time.sleep(60 * 5)"
   ]
  },
  {
   "cell_type": "code",
   "execution_count": null,
   "metadata": {},
   "outputs": [],
   "source": []
  }
 ],
 "metadata": {
  "kernelspec": {
   "display_name": "Python 3",
   "language": "python",
   "name": "python3"
  },
  "language_info": {
   "codemirror_mode": {
    "name": "ipython",
    "version": 3
   },
   "file_extension": ".py",
   "mimetype": "text/x-python",
   "name": "python",
   "nbconvert_exporter": "python",
   "pygments_lexer": "ipython3",
   "version": "3.7.4"
  }
 },
 "nbformat": 4,
 "nbformat_minor": 2
}
