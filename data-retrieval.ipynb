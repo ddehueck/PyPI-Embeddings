{
 "cells": [
  {
   "cell_type": "code",
   "execution_count": 10,
   "metadata": {},
   "outputs": [],
   "source": [
    "# All the data from PyPI\n",
    "pypi_data_path = 'retrieved_data/pypi_data.json'\n",
    "\n",
    "# Only Packages from PyPI that linked to Github Repo\n",
    "pypi_github_pkgs_path = 'retrieved_data/pypi_github_data.json'\n",
    "\n",
    "# Data from GitHub API for packages identified in step 2\n",
    "github_data_path = 'retrieved_data/github_data.json'"
   ]
  },
  {
   "cell_type": "markdown",
   "metadata": {},
   "source": [
    "## 1.) Retrieve All PyPI Data"
   ]
  },
  {
   "cell_type": "code",
   "execution_count": 2,
   "metadata": {},
   "outputs": [
    {
     "name": "stderr",
     "output_type": "stream",
     "text": [
      "\r",
      "  0%|          | 0/1 [00:00<?, ?it/s]"
     ]
    },
    {
     "name": "stdout",
     "output_type": "stream",
     "text": [
      "Scanning 100 packages\n",
      "Getting all packages...\n",
      "404 Client Error: Not Found for url: https://pypi.org/pypi/pymemo/json\n",
      "404 Client Error: Not Found for url: https://pypi.org/pypi/mercury-scraper/json\n",
      "404 Client Error: Not Found for url: https://pypi.org/pypi/jfftools/json\n"
     ]
    },
    {
     "name": "stderr",
     "output_type": "stream",
     "text": [
      "100%|██████████| 1/1 [00:11<00:00, 11.09s/it]"
     ]
    },
    {
     "name": "stdout",
     "output_type": "stream",
     "text": [
      "There were 3 exceptions out of 100 requests.\n",
      "Saving data to /data...\n",
      "Saved data to: retrieved_data/pypi_data.json\n"
     ]
    },
    {
     "name": "stderr",
     "output_type": "stream",
     "text": [
      "\n"
     ]
    }
   ],
   "source": [
    "from async_pypi_retrieval import get_all_packages\n",
    "\n",
    "# There will many 404 errors but this is expected - watch for any strange errors\n",
    "get_all_packages(save_to=pypi_data_path)"
   ]
  },
  {
   "cell_type": "markdown",
   "metadata": {},
   "source": [
    "## 2.) Find All PyPI Data That Links to a GitHub Repository"
   ]
  },
  {
   "cell_type": "code",
   "execution_count": 3,
   "metadata": {},
   "outputs": [],
   "source": [
    "import ujson\n",
    "import time\n",
    "from urllib.parse import urlparse"
   ]
  },
  {
   "cell_type": "code",
   "execution_count": 4,
   "metadata": {},
   "outputs": [],
   "source": [
    "# Load data we just collected\n",
    "with open(pypi_data_path, 'r', encoding='utf-8') as f:\n",
    "    json = ujson.loads(f.read())"
   ]
  },
  {
   "cell_type": "code",
   "execution_count": 6,
   "metadata": {},
   "outputs": [
    {
     "name": "stdout",
     "output_type": "stream",
     "text": [
      "There were  78/97 packages with github links found.\n",
      "Saving data to /data...\n",
      "Saved data to: retrieved_data/pypi_github_data.json\n"
     ]
    }
   ],
   "source": [
    "verbose = False\n",
    "github_packages = []\n",
    "\n",
    "for package_data in json['data']:\n",
    "    urls = package_data['project_urls']\n",
    "    if urls is None:\n",
    "        continue\n",
    "\n",
    "    is_github = False\n",
    "    for url in urls.values():\n",
    "        parsed = urlparse(url)\n",
    "        p_split = parsed.path.split('/')\n",
    "\n",
    "        # Greater than two so a user and repo is listed\n",
    "        if 'github.com' in str(parsed.netloc) and len(p_split) > 2:\n",
    "            # Build link to just repo if it goes any further\n",
    "            cleaned_github = 'https://github.com/' + p_split[1] + '/' + p_split[2] + '/'\n",
    "            package_data['github_link'] = cleaned_github\n",
    "            # Save\n",
    "            github_packages.append(package_data)\n",
    "            is_github = True\n",
    "            break\n",
    "\n",
    "    if not is_github and verbose:\n",
    "        # View all links associated with packages NOT identified as having a GitHub Link\n",
    "        # Helpful to ensure we don't miss anyy\n",
    "        print(f'Is not github: {urls} from {package_data[\"name\"]}')\n",
    "        \n",
    "# Log and save at completion\n",
    "print(f'There were  {len(github_packages)}/{len(json[\"data\"])} packages with github links found.')\n",
    "print(f'Saving data to /data...')\n",
    "with open(pypi_github_pkgs_path, 'w', encoding='utf-8') as f:\n",
    "    ujson.dump({\n",
    "        \"data\": github_packages,\n",
    "        \"timestamp\": time.time()\n",
    "    }, f)\n",
    "\n",
    "print(f'Saved data to: {pypi_github_pkgs_path}')"
   ]
  },
  {
   "cell_type": "markdown",
   "metadata": {},
   "source": [
    "## 3.) Retrieve data from GitHub API\n",
    "\n",
    "This is the trickiest part of the data to get due to being ratelimited by GitHub's API. To get this without constantly re-running the script every hour this while loop will run checking if requests will be served or rate limited - until stopped.\n",
    "\n",
    "This means **the looping cell will need to be terminated by hand after a couple days or so** (takes that long to go through all the data.)"
   ]
  },
  {
   "cell_type": "code",
   "execution_count": 7,
   "metadata": {},
   "outputs": [],
   "source": [
    "from environs import Env\n",
    "\n",
    "env = Env()\n",
    "env.read_env()\n",
    "\n",
    "github_auth = env(\"GITHUB_AUTH\")"
   ]
  },
  {
   "cell_type": "code",
   "execution_count": 15,
   "metadata": {},
   "outputs": [],
   "source": [
    "import time\n",
    "from async_github_retrieval import RetrieveGitHubData\n",
    "from github_utils import GitHubUtils\n",
    "\n",
    "github_utils = GitHubUtils(github_auth)\n",
    "github_retrieval = RetrieveGitHubData(github_data_path, pypi_github_pkgs_path, github_auth)"
   ]
  },
  {
   "cell_type": "code",
   "execution_count": 13,
   "metadata": {},
   "outputs": [
    {
     "ename": "Exception",
     "evalue": "The data map has already been initialized! Delete it if you are sure you want to start over.",
     "output_type": "error",
     "traceback": [
      "\u001b[0;31m---------------------------------------------------------------------------\u001b[0m",
      "\u001b[0;31mException\u001b[0m                                 Traceback (most recent call last)",
      "\u001b[0;32m<ipython-input-13-4328a12f4899>\u001b[0m in \u001b[0;36m<module>\u001b[0;34m\u001b[0m\n\u001b[1;32m      1\u001b[0m \u001b[0;31m# Initialize file with structure to allow us to update a state\u001b[0m\u001b[0;34m\u001b[0m\u001b[0;34m\u001b[0m\u001b[0m\n\u001b[1;32m      2\u001b[0m \u001b[0;31m# Will only need to run this cell once!\u001b[0m\u001b[0;34m\u001b[0m\u001b[0;34m\u001b[0m\u001b[0m\n\u001b[0;32m----> 3\u001b[0;31m \u001b[0mgithub_retrieval\u001b[0m\u001b[0;34m.\u001b[0m\u001b[0minit_data_map\u001b[0m\u001b[0;34m(\u001b[0m\u001b[0;34m)\u001b[0m\u001b[0;34m\u001b[0m\u001b[0m\n\u001b[0m",
      "\u001b[0;32m~/Documents/project2vec/jupyter_notebooks/async_github_retrieval.py\u001b[0m in \u001b[0;36minit_data_map\u001b[0;34m(self)\u001b[0m\n\u001b[1;32m    116\u001b[0m \u001b[0;34m\u001b[0m\u001b[0m\n\u001b[1;32m    117\u001b[0m         \u001b[0;32mif\u001b[0m \u001b[0mos\u001b[0m\u001b[0;34m.\u001b[0m\u001b[0mpath\u001b[0m\u001b[0;34m.\u001b[0m\u001b[0mexists\u001b[0m\u001b[0;34m(\u001b[0m\u001b[0mself\u001b[0m\u001b[0;34m.\u001b[0m\u001b[0msave_to\u001b[0m\u001b[0;34m)\u001b[0m\u001b[0;34m:\u001b[0m\u001b[0;34m\u001b[0m\u001b[0m\n\u001b[0;32m--> 118\u001b[0;31m             \u001b[0;32mraise\u001b[0m \u001b[0mException\u001b[0m\u001b[0;34m(\u001b[0m\u001b[0;34m\"The data map has already been initialized! Delete it if you are sure you want to start over.\"\u001b[0m\u001b[0;34m)\u001b[0m\u001b[0;34m\u001b[0m\u001b[0m\n\u001b[0m\u001b[1;32m    119\u001b[0m \u001b[0;34m\u001b[0m\u001b[0m\n\u001b[1;32m    120\u001b[0m         \u001b[0;32mwith\u001b[0m \u001b[0mopen\u001b[0m\u001b[0;34m(\u001b[0m\u001b[0mself\u001b[0m\u001b[0;34m.\u001b[0m\u001b[0mpypi_github_path\u001b[0m\u001b[0;34m,\u001b[0m \u001b[0;34m'r'\u001b[0m\u001b[0;34m,\u001b[0m \u001b[0mencoding\u001b[0m\u001b[0;34m=\u001b[0m\u001b[0;34m'utf-8'\u001b[0m\u001b[0;34m)\u001b[0m \u001b[0;32mas\u001b[0m \u001b[0mf\u001b[0m\u001b[0;34m:\u001b[0m\u001b[0;34m\u001b[0m\u001b[0m\n",
      "\u001b[0;31mException\u001b[0m: The data map has already been initialized! Delete it if you are sure you want to start over."
     ]
    }
   ],
   "source": [
    "# Initialize file with structure to allow us to update a state\n",
    "# Will only need to run this cell once!\n",
    "github_retrieval.init_data_map()"
   ]
  },
  {
   "cell_type": "markdown",
   "metadata": {},
   "source": [
    "This cell below **will need to be terminated by hand after a couple days or so** (takes that long to go through all the data.)\n",
    "\n",
    "Expect to see errors like \"loading\", \"403\", and \"rate_limited\""
   ]
  },
  {
   "cell_type": "code",
   "execution_count": 14,
   "metadata": {},
   "outputs": [
    {
     "name": "stdout",
     "output_type": "stream",
     "text": [
      "CLEARING ERRORS...\n",
      "Saving data to /data...\n",
      "Saved data to: retrieved_data/github_data.json\n",
      "\n",
      "------------- SOME STATS -------------------\n",
      "There were 65 packages with data\n",
      "There were 13 packages that throw errors\n",
      "There are 78 packages total\n",
      "--------------------------------------------\n",
      "\n",
      "\n",
      "\n",
      "WITHIN RATE LIMIT!\n"
     ]
    },
    {
     "name": "stderr",
     "output_type": "stream",
     "text": [
      "100%|██████████| 1/1 [00:00<00:00, 7738.57it/s]"
     ]
    },
    {
     "name": "stdout",
     "output_type": "stream",
     "text": [
      "Setting up packages to be distributed to workers...\n",
      "Getting all github data...\n",
      "There were 0 exceptions out of 78 requests.\n",
      "Saving data...\n",
      "Saved data to: retrieved_data/github_data.json\n",
      "\n",
      "------------- SOME STATS -------------------\n",
      "There were 65 packages with data\n",
      "There were 13 packages that throw errors\n",
      "There are 78 packages total\n",
      "--------------------------------------------\n",
      "\n",
      "\n"
     ]
    },
    {
     "name": "stderr",
     "output_type": "stream",
     "text": [
      "\n",
      "100%|██████████| 1/1 [00:00<00:00, 7913.78it/s]"
     ]
    },
    {
     "name": "stdout",
     "output_type": "stream",
     "text": [
      "\n",
      "WITHIN RATE LIMIT!\n",
      "Setting up packages to be distributed to workers...\n",
      "Getting all github data...\n",
      "There were 0 exceptions out of 78 requests.\n",
      "Saving data...\n",
      "Saved data to: retrieved_data/github_data.json\n",
      "\n",
      "------------- SOME STATS -------------------\n",
      "There were 65 packages with data\n",
      "There were 13 packages that throw errors\n",
      "There are 78 packages total\n",
      "--------------------------------------------\n",
      "\n",
      "\n"
     ]
    },
    {
     "name": "stderr",
     "output_type": "stream",
     "text": [
      "\n",
      "100%|██████████| 1/1 [00:00<00:00, 4228.13it/s]"
     ]
    },
    {
     "name": "stdout",
     "output_type": "stream",
     "text": [
      "\n",
      "WITHIN RATE LIMIT!\n",
      "Setting up packages to be distributed to workers...\n",
      "Getting all github data...\n",
      "There were 0 exceptions out of 78 requests.\n",
      "Saving data...\n",
      "Saved data to: retrieved_data/github_data.json\n",
      "\n",
      "------------- SOME STATS -------------------\n",
      "There were 65 packages with data\n",
      "There were 13 packages that throw errors\n",
      "There are 78 packages total\n",
      "--------------------------------------------\n",
      "\n",
      "\n"
     ]
    },
    {
     "name": "stderr",
     "output_type": "stream",
     "text": [
      "\n",
      "100%|██████████| 1/1 [00:00<00:00, 6297.75it/s]"
     ]
    },
    {
     "name": "stdout",
     "output_type": "stream",
     "text": [
      "\n",
      "WITHIN RATE LIMIT!\n",
      "Setting up packages to be distributed to workers...\n",
      "Getting all github data...\n",
      "There were 0 exceptions out of 78 requests.\n",
      "Saving data...\n",
      "Saved data to: retrieved_data/github_data.json\n",
      "\n",
      "------------- SOME STATS -------------------\n",
      "There were 65 packages with data\n",
      "There were 13 packages that throw errors\n",
      "There are 78 packages total\n",
      "--------------------------------------------\n",
      "\n",
      "\n"
     ]
    },
    {
     "name": "stderr",
     "output_type": "stream",
     "text": [
      "\n",
      "100%|██████████| 1/1 [00:00<00:00, 2839.75it/s]"
     ]
    },
    {
     "name": "stdout",
     "output_type": "stream",
     "text": [
      "\n",
      "WITHIN RATE LIMIT!\n",
      "Setting up packages to be distributed to workers...\n",
      "Getting all github data...\n",
      "There were 0 exceptions out of 78 requests.\n",
      "Saving data...\n",
      "Saved data to: retrieved_data/github_data.json\n",
      "\n",
      "------------- SOME STATS -------------------\n",
      "There were 65 packages with data\n",
      "There were 13 packages that throw errors\n",
      "There are 78 packages total\n",
      "--------------------------------------------\n",
      "\n",
      "\n"
     ]
    },
    {
     "name": "stderr",
     "output_type": "stream",
     "text": [
      "\n",
      "100%|██████████| 1/1 [00:00<00:00, 5801.25it/s]"
     ]
    },
    {
     "name": "stdout",
     "output_type": "stream",
     "text": [
      "\n",
      "WITHIN RATE LIMIT!\n",
      "Setting up packages to be distributed to workers...\n",
      "Getting all github data...\n",
      "There were 0 exceptions out of 78 requests.\n",
      "Saving data...\n",
      "Saved data to: retrieved_data/github_data.json\n",
      "\n",
      "------------- SOME STATS -------------------\n",
      "There were 65 packages with data\n",
      "There were 13 packages that throw errors\n",
      "There are 78 packages total\n",
      "--------------------------------------------\n",
      "\n",
      "\n"
     ]
    },
    {
     "name": "stderr",
     "output_type": "stream",
     "text": [
      "\n",
      "100%|██████████| 1/1 [00:00<00:00, 6636.56it/s]"
     ]
    },
    {
     "name": "stdout",
     "output_type": "stream",
     "text": [
      "\n",
      "WITHIN RATE LIMIT!\n",
      "Setting up packages to be distributed to workers...\n",
      "Getting all github data...\n",
      "There were 0 exceptions out of 78 requests.\n",
      "Saving data...\n",
      "Saved data to: retrieved_data/github_data.json\n",
      "\n",
      "------------- SOME STATS -------------------\n",
      "There were 65 packages with data\n",
      "There were 13 packages that throw errors\n",
      "There are 78 packages total\n",
      "--------------------------------------------\n",
      "\n",
      "\n"
     ]
    },
    {
     "name": "stderr",
     "output_type": "stream",
     "text": [
      "\n",
      "100%|██████████| 1/1 [00:00<00:00, 6553.60it/s]"
     ]
    },
    {
     "name": "stdout",
     "output_type": "stream",
     "text": [
      "\n",
      "WITHIN RATE LIMIT!\n",
      "Setting up packages to be distributed to workers...\n",
      "Getting all github data...\n",
      "There were 0 exceptions out of 78 requests.\n",
      "Saving data...\n",
      "Saved data to: retrieved_data/github_data.json\n",
      "\n",
      "------------- SOME STATS -------------------\n",
      "There were 65 packages with data\n",
      "There were 13 packages that throw errors\n",
      "There are 78 packages total\n",
      "--------------------------------------------\n",
      "\n",
      "\n"
     ]
    },
    {
     "name": "stderr",
     "output_type": "stream",
     "text": [
      "\n",
      "100%|██████████| 1/1 [00:00<00:00, 3407.23it/s]"
     ]
    },
    {
     "name": "stdout",
     "output_type": "stream",
     "text": [
      "\n",
      "WITHIN RATE LIMIT!\n",
      "Setting up packages to be distributed to workers...\n",
      "Getting all github data...\n",
      "There were 0 exceptions out of 78 requests.\n",
      "Saving data...\n",
      "Saved data to: retrieved_data/github_data.json\n",
      "\n",
      "------------- SOME STATS -------------------\n",
      "There were 65 packages with data\n",
      "There were 13 packages that throw errors\n",
      "There are 78 packages total\n",
      "--------------------------------------------\n",
      "\n",
      "\n"
     ]
    },
    {
     "name": "stderr",
     "output_type": "stream",
     "text": [
      "\n",
      "100%|██████████| 1/1 [00:00<00:00, 1749.08it/s]"
     ]
    },
    {
     "name": "stdout",
     "output_type": "stream",
     "text": [
      "\n",
      "WITHIN RATE LIMIT!\n",
      "Setting up packages to be distributed to workers...\n",
      "Getting all github data...\n",
      "There were 0 exceptions out of 78 requests.\n",
      "Saving data...\n",
      "Saved data to: retrieved_data/github_data.json\n",
      "\n",
      "------------- SOME STATS -------------------\n",
      "There were 65 packages with data\n",
      "There were 13 packages that throw errors\n",
      "There are 78 packages total\n",
      "--------------------------------------------\n",
      "\n",
      "\n"
     ]
    },
    {
     "name": "stderr",
     "output_type": "stream",
     "text": [
      "\n",
      "100%|██████████| 1/1 [00:00<00:00, 6061.13it/s]"
     ]
    },
    {
     "name": "stdout",
     "output_type": "stream",
     "text": [
      "\n",
      "WITHIN RATE LIMIT!\n",
      "Setting up packages to be distributed to workers...\n",
      "Getting all github data...\n",
      "There were 0 exceptions out of 78 requests.\n",
      "Saving data...\n",
      "Saved data to: retrieved_data/github_data.json\n",
      "\n",
      "------------- SOME STATS -------------------\n",
      "There were 65 packages with data\n",
      "There were 13 packages that throw errors\n",
      "There are 78 packages total\n",
      "--------------------------------------------\n",
      "\n",
      "\n"
     ]
    },
    {
     "name": "stderr",
     "output_type": "stream",
     "text": [
      "\n",
      "100%|██████████| 1/1 [00:00<00:00, 7194.35it/s]"
     ]
    },
    {
     "name": "stdout",
     "output_type": "stream",
     "text": [
      "\n",
      "WITHIN RATE LIMIT!\n",
      "Setting up packages to be distributed to workers...\n",
      "Getting all github data...\n",
      "There were 0 exceptions out of 78 requests.\n",
      "Saving data...\n",
      "Saved data to: retrieved_data/github_data.json\n",
      "\n",
      "------------- SOME STATS -------------------\n",
      "There were 65 packages with data\n",
      "There were 13 packages that throw errors\n",
      "There are 78 packages total\n",
      "--------------------------------------------\n",
      "\n",
      "\n"
     ]
    },
    {
     "name": "stderr",
     "output_type": "stream",
     "text": [
      "\n",
      "100%|██████████| 1/1 [00:00<00:00, 1842.84it/s]"
     ]
    },
    {
     "name": "stdout",
     "output_type": "stream",
     "text": [
      "\n",
      "WITHIN RATE LIMIT!\n",
      "Setting up packages to be distributed to workers...\n",
      "Getting all github data...\n",
      "There were 0 exceptions out of 78 requests.\n",
      "Saving data...\n",
      "Saved data to: retrieved_data/github_data.json\n",
      "\n",
      "------------- SOME STATS -------------------\n",
      "There were 65 packages with data\n",
      "There were 13 packages that throw errors\n",
      "There are 78 packages total\n",
      "--------------------------------------------\n",
      "\n",
      "\n"
     ]
    },
    {
     "name": "stderr",
     "output_type": "stream",
     "text": [
      "\n",
      "100%|██████████| 1/1 [00:00<00:00, 2087.76it/s]"
     ]
    },
    {
     "name": "stdout",
     "output_type": "stream",
     "text": [
      "\n",
      "WITHIN RATE LIMIT!\n",
      "Setting up packages to be distributed to workers...\n",
      "Getting all github data...\n",
      "There were 0 exceptions out of 78 requests.\n",
      "Saving data...\n",
      "Saved data to: retrieved_data/github_data.json\n",
      "\n",
      "------------- SOME STATS -------------------\n",
      "There were 65 packages with data\n",
      "There were 13 packages that throw errors\n",
      "There are 78 packages total\n",
      "--------------------------------------------\n",
      "\n",
      "\n"
     ]
    },
    {
     "name": "stderr",
     "output_type": "stream",
     "text": [
      "\n",
      "100%|██████████| 1/1 [00:00<00:00, 4848.91it/s]"
     ]
    },
    {
     "name": "stdout",
     "output_type": "stream",
     "text": [
      "\n",
      "WITHIN RATE LIMIT!\n",
      "Setting up packages to be distributed to workers...\n",
      "Getting all github data...\n",
      "There were 0 exceptions out of 78 requests.\n",
      "Saving data...\n",
      "Saved data to: retrieved_data/github_data.json\n",
      "\n",
      "------------- SOME STATS -------------------\n",
      "There were 65 packages with data\n",
      "There were 13 packages that throw errors\n",
      "There are 78 packages total\n",
      "--------------------------------------------\n",
      "\n",
      "\n"
     ]
    },
    {
     "name": "stderr",
     "output_type": "stream",
     "text": [
      "\n",
      "100%|██████████| 1/1 [00:00<00:00, 5645.09it/s]"
     ]
    },
    {
     "name": "stdout",
     "output_type": "stream",
     "text": [
      "\n",
      "WITHIN RATE LIMIT!\n",
      "Setting up packages to be distributed to workers...\n",
      "Getting all github data...\n",
      "There were 0 exceptions out of 78 requests.\n",
      "Saving data...\n",
      "Saved data to: retrieved_data/github_data.json\n",
      "\n",
      "------------- SOME STATS -------------------\n",
      "There were 65 packages with data\n",
      "There were 13 packages that throw errors\n",
      "There are 78 packages total\n",
      "--------------------------------------------\n",
      "\n",
      "\n"
     ]
    },
    {
     "name": "stderr",
     "output_type": "stream",
     "text": [
      "\n",
      "100%|██████████| 1/1 [00:00<00:00, 6462.72it/s]"
     ]
    },
    {
     "name": "stdout",
     "output_type": "stream",
     "text": [
      "\n",
      "WITHIN RATE LIMIT!\n",
      "Setting up packages to be distributed to workers...\n",
      "Getting all github data...\n",
      "There were 0 exceptions out of 78 requests.\n",
      "Saving data...\n",
      "Saved data to: retrieved_data/github_data.json\n",
      "\n",
      "------------- SOME STATS -------------------\n",
      "There were 65 packages with data\n",
      "There were 13 packages that throw errors\n",
      "There are 78 packages total\n",
      "--------------------------------------------\n",
      "\n",
      "\n"
     ]
    },
    {
     "name": "stderr",
     "output_type": "stream",
     "text": [
      "\n",
      "100%|██████████| 1/1 [00:00<00:00, 10280.16it/s]"
     ]
    },
    {
     "name": "stdout",
     "output_type": "stream",
     "text": [
      "\n",
      "WITHIN RATE LIMIT!\n",
      "Setting up packages to be distributed to workers...\n",
      "Getting all github data...\n",
      "There were 0 exceptions out of 78 requests.\n",
      "Saving data...\n",
      "Saved data to: retrieved_data/github_data.json\n",
      "\n",
      "------------- SOME STATS -------------------\n",
      "There were 65 packages with data\n",
      "There were 13 packages that throw errors\n",
      "There are 78 packages total\n",
      "--------------------------------------------\n",
      "\n",
      "\n"
     ]
    },
    {
     "name": "stderr",
     "output_type": "stream",
     "text": [
      "\n",
      "100%|██████████| 1/1 [00:00<00:00, 7384.34it/s]"
     ]
    },
    {
     "name": "stdout",
     "output_type": "stream",
     "text": [
      "\n",
      "WITHIN RATE LIMIT!\n",
      "Setting up packages to be distributed to workers...\n",
      "Getting all github data...\n",
      "There were 0 exceptions out of 78 requests.\n",
      "Saving data...\n",
      "Saved data to: retrieved_data/github_data.json\n",
      "\n",
      "------------- SOME STATS -------------------\n",
      "There were 65 packages with data\n",
      "There were 13 packages that throw errors\n",
      "There are 78 packages total\n",
      "--------------------------------------------\n",
      "\n",
      "\n"
     ]
    },
    {
     "name": "stderr",
     "output_type": "stream",
     "text": [
      "\n",
      "100%|██████████| 1/1 [00:00<00:00, 6442.86it/s]"
     ]
    },
    {
     "name": "stdout",
     "output_type": "stream",
     "text": [
      "\n",
      "WITHIN RATE LIMIT!\n",
      "Setting up packages to be distributed to workers...\n",
      "Getting all github data...\n",
      "There were 0 exceptions out of 78 requests.\n",
      "Saving data...\n",
      "Saved data to: retrieved_data/github_data.json\n",
      "\n",
      "------------- SOME STATS -------------------\n",
      "There were 65 packages with data\n",
      "There were 13 packages that throw errors\n",
      "There are 78 packages total\n",
      "--------------------------------------------\n",
      "\n",
      "\n",
      "CLEARING ERRORS...\n",
      "Saving data to /data...\n",
      "Saved data to: retrieved_data/github_data.json\n",
      "\n",
      "------------- SOME STATS -------------------\n",
      "There were 65 packages with data\n",
      "There were 13 packages that throw errors\n",
      "There are 78 packages total\n",
      "--------------------------------------------\n",
      "\n",
      "\n"
     ]
    },
    {
     "name": "stderr",
     "output_type": "stream",
     "text": [
      "\n",
      "100%|██████████| 1/1 [00:00<00:00, 7121.06it/s]"
     ]
    },
    {
     "name": "stdout",
     "output_type": "stream",
     "text": [
      "\n",
      "WITHIN RATE LIMIT!\n",
      "Setting up packages to be distributed to workers...\n",
      "Getting all github data...\n",
      "There were 0 exceptions out of 78 requests.\n",
      "Saving data...\n",
      "Saved data to: retrieved_data/github_data.json\n",
      "\n",
      "------------- SOME STATS -------------------\n",
      "There were 65 packages with data\n",
      "There were 13 packages that throw errors\n",
      "There are 78 packages total\n",
      "--------------------------------------------\n",
      "\n",
      "\n"
     ]
    },
    {
     "name": "stderr",
     "output_type": "stream",
     "text": [
      "\n",
      "100%|██████████| 1/1 [00:00<00:00, 7169.75it/s]"
     ]
    },
    {
     "name": "stdout",
     "output_type": "stream",
     "text": [
      "\n",
      "WITHIN RATE LIMIT!\n",
      "Setting up packages to be distributed to workers...\n",
      "Getting all github data...\n",
      "There were 0 exceptions out of 78 requests.\n",
      "Saving data...\n",
      "Saved data to: retrieved_data/github_data.json\n",
      "\n",
      "------------- SOME STATS -------------------\n",
      "There were 65 packages with data\n",
      "There were 13 packages that throw errors\n",
      "There are 78 packages total\n",
      "--------------------------------------------\n",
      "\n",
      "\n"
     ]
    },
    {
     "name": "stderr",
     "output_type": "stream",
     "text": [
      "\n"
     ]
    },
    {
     "name": "stdout",
     "output_type": "stream",
     "text": [
      "WEIRD ERROR: \n",
      "Waiting 5 Minutes...\n"
     ]
    },
    {
     "ename": "KeyboardInterrupt",
     "evalue": "",
     "output_type": "error",
     "traceback": [
      "\u001b[0;31m---------------------------------------------------------------------------\u001b[0m",
      "\u001b[0;31mKeyboardInterrupt\u001b[0m                         Traceback (most recent call last)",
      "\u001b[0;32m<ipython-input-14-0272535155d5>\u001b[0m in \u001b[0;36m<module>\u001b[0;34m\u001b[0m\n\u001b[1;32m     10\u001b[0m         \u001b[0;32melse\u001b[0m\u001b[0;34m:\u001b[0m\u001b[0;34m\u001b[0m\u001b[0m\n\u001b[1;32m     11\u001b[0m             \u001b[0mprint\u001b[0m\u001b[0;34m(\u001b[0m\u001b[0;34m'Waiting 5 Minutes...'\u001b[0m\u001b[0;34m)\u001b[0m\u001b[0;34m\u001b[0m\u001b[0m\n\u001b[0;32m---> 12\u001b[0;31m             \u001b[0mtime\u001b[0m\u001b[0;34m.\u001b[0m\u001b[0msleep\u001b[0m\u001b[0;34m(\u001b[0m\u001b[0;36m60\u001b[0m \u001b[0;34m*\u001b[0m \u001b[0;36m5\u001b[0m\u001b[0;34m)\u001b[0m\u001b[0;34m\u001b[0m\u001b[0m\n\u001b[0m",
      "\u001b[0;31mKeyboardInterrupt\u001b[0m: "
     ]
    }
   ],
   "source": [
    "while True:\n",
    "    github_retrieval.clear_error()\n",
    "    # Every 20 successes clear errors\n",
    "    successes = 0\n",
    "    while successes < 20:\n",
    "        if github_utils.within_github_rate_limit():\n",
    "            print('\\nWITHIN RATE LIMIT!')\n",
    "            successes += 1\n",
    "            github_retrieval.get_all_github_data()\n",
    "        else:\n",
    "            print('Waiting 5 Minutes...')\n",
    "            time.sleep(60 * 5)"
   ]
  },
  {
   "cell_type": "code",
   "execution_count": null,
   "metadata": {},
   "outputs": [],
   "source": []
  }
 ],
 "metadata": {
  "kernelspec": {
   "display_name": "Python 3",
   "language": "python",
   "name": "python3"
  },
  "language_info": {
   "codemirror_mode": {
    "name": "ipython",
    "version": 3
   },
   "file_extension": ".py",
   "mimetype": "text/x-python",
   "name": "python",
   "nbconvert_exporter": "python",
   "pygments_lexer": "ipython3",
   "version": "3.7.0"
  }
 },
 "nbformat": 4,
 "nbformat_minor": 2
}
