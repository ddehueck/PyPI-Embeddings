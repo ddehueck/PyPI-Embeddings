{
 "cells": [
  {
   "cell_type": "code",
   "execution_count": 6,
   "metadata": {},
   "outputs": [],
   "source": [
    "import pandas as pd\n",
    "\n",
    "from data_preprocess.graph_data import PyPIGraph"
   ]
  },
  {
   "cell_type": "code",
   "execution_count": 1,
   "metadata": {},
   "outputs": [],
   "source": [
    "nodes_path = 'data_preprocess/data/pypi_nodes.csv'\n",
    "edges_path = 'data_preprocess/data/pypi_edges.csv'\n",
    "lang_path = 'data_preprocess/data/pypi_nodes_lang.csv'\n",
    "\n",
    "eval_topics_path = 'data_preprocess/data/eval_topics.csv'\n",
    "node_topics_path = 'data_preprocess/data/node_topics.csv'"
   ]
  },
  {
   "cell_type": "code",
   "execution_count": 8,
   "metadata": {},
   "outputs": [],
   "source": [
    "graph = PyPIGraph(nodes_path, edges_path, lang_path)\n",
    "\n",
    "edges = pd.read_csv(edges_path).values\n",
    "nodes = pd.read_csv(nodes_path).values"
   ]
  },
  {
   "cell_type": "code",
   "execution_count": 9,
   "metadata": {},
   "outputs": [
    {
     "name": "stdout",
     "output_type": "stream",
     "text": [
      "\n",
      "------------------------------\n",
      "     PyPI Data Statistics    \n",
      "------------------------------\n",
      "Total Number of Nodes: 199234\n",
      "Total Number of Edges: 1509378\n",
      "Total of 95951/199234 has connections\n",
      "Total Number of Nodes with language data: 166987\n",
      "Total of 92871 have language and graph data\n",
      "\n"
     ]
    }
   ],
   "source": [
    "print('\\n------------------------------')\n",
    "print('     PyPI Data Statistics    ')\n",
    "print('------------------------------')\n",
    "\n",
    "print(f\"Total Number of Nodes: {len(nodes)}\")\n",
    "print(f\"Total Number of Edges: {len(edges)}\")\n",
    "\n",
    "num_nodes_with_connections = graph.num_nodes_with_connections()\n",
    "print(f'Total of {num_nodes_with_connections}/{len(nodes)} has connections')\n",
    "\n",
    "num_node_lang = graph.num_nodes_with_features()\n",
    "print(f\"Total Number of Nodes with language data: {num_node_lang}\")\n",
    "\n",
    "num_nodes_graph_and_lang_data = graph.num_nodes_with_connections_and_features()\n",
    "print(f'Total of {num_nodes_graph_and_lang_data} have language and graph data')\n",
    "print()"
   ]
  },
  {
   "cell_type": "code",
   "execution_count": null,
   "metadata": {},
   "outputs": [],
   "source": []
  }
 ],
 "metadata": {
  "kernelspec": {
   "display_name": "Python 3",
   "language": "python",
   "name": "python3"
  },
  "language_info": {
   "codemirror_mode": {
    "name": "ipython",
    "version": 3
   },
   "file_extension": ".py",
   "mimetype": "text/x-python",
   "name": "python",
   "nbconvert_exporter": "python",
   "pygments_lexer": "ipython3",
   "version": "3.6.9"
  }
 },
 "nbformat": 4,
 "nbformat_minor": 2
}
